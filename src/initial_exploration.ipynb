{
 "cells": [
  {
   "cell_type": "code",
   "execution_count": 2,
   "metadata": {},
   "outputs": [],
   "source": [
    "import tensorflow as tf\n",
    "import tensorflow.python.platform.build_info as build\n",
    "from database_connection import DBConn"
   ]
  },
  {
   "attachments": {},
   "cell_type": "markdown",
   "metadata": {},
   "source": [
    "This notebook is just for quickly checking database SQL transactions were completed correctly. "
   ]
  },
  {
   "cell_type": "code",
   "execution_count": 3,
   "metadata": {},
   "outputs": [
    {
     "name": "stdout",
     "output_type": "stream",
     "text": [
      "TF is cuda build: True\n",
      "Device list: [PhysicalDevice(name='/physical_device:GPU:0', device_type='GPU')]\n"
     ]
    }
   ],
   "source": [
    "# check gpu availability \n",
    "print(f\"TF is cuda build: {build.build_info['is_cuda_build']}\")\n",
    "print(f\"Device list: {tf.config.list_physical_devices('GPU')}\")"
   ]
  },
  {
   "cell_type": "code",
   "execution_count": 4,
   "metadata": {},
   "outputs": [],
   "source": [
    "# setup database connection \n",
    "HOST = 'localhost'\n",
    "USER = 'db_user'\n",
    "PORT = 5438\n",
    "DATABASE = 'shot_db'\n",
    "PASSWORD = 'LetMeIn'\n",
    "MAIN_TABLE = 'shot_data_table'\n",
    "EVEN_TABLE = 'even_shot_data_table'\n",
    "MANADV_TABLE = 'man_adv_shot_data_table'\n",
    "SHORT_TABLE = 'short_shot_data_table'\n",
    "common_features = ['event_distance', 'event_angle', 'seconds_elapsed', 'game_period', \n",
    "                   'x', 'y', 'is_home', 'score_down_4', 'score_down_3', 'score_down_2',\n",
    "                   'score_down_1', 'score_up_4', 'score_up_3', 'score_up_2', 'score_up_1',\n",
    "                   'score_even', 'wrist_shot', 'deflected_shot', 'tip_shot', 'slap_shot',\n",
    "                   'backhand_shot', 'snap_shot', 'wrap_shot']\n",
    "MAIN_FEATURES = common_features + ['state_5v5', 'state_4v4', 'state_3v3']\n",
    "MANADV_FEATURES = common_features + ['state_5v4', 'state_4v3', 'state_5v3', 'state_6v5', 'state_6v4']\n",
    "SHORT_FEATURES = common_features + ['state_4v5', 'state_3v4', 'state_3v5']\n",
    "\n",
    "db = DBConn()"
   ]
  },
  {
   "cell_type": "code",
   "execution_count": 10,
   "metadata": {},
   "outputs": [
    {
     "data": {
      "text/plain": [
       "Index(['id', 'game_id', 'season', 'game_date', 'game_period', 'shot_event',\n",
       "       'seconds_elapsed', 'strength', 'strength_2', 'event_team', 'away_team',\n",
       "       'home_team', 'position', 'shoots', 'player1', 'player2', 'player3',\n",
       "       'away_player1', 'away_player2', 'away_player3', 'away_player4',\n",
       "       'away_player5', 'away_player6', 'home_player1', 'home_player2',\n",
       "       'home_player3', 'home_player4', 'home_player5', 'home_player6',\n",
       "       'away_players', 'home_players', 'away_score', 'home_score',\n",
       "       'away_goalie', 'home_goalie', 'home_coach', 'away_coach', 'event_zone',\n",
       "       'x', 'y', 'is_home', 'goalie', 'catches', 'shot_type', 'loc', 'corsi',\n",
       "       'fenwick', 'shot', 'goal', 'empty_net', 'xg', 'event_distance',\n",
       "       'event_angle', 'score_down_4', 'score_down_3', 'score_down_2',\n",
       "       'score_down_1', 'score_up_4', 'score_up_3', 'score_up_2', 'score_up_1',\n",
       "       'score_even', 'wrist_shot', 'deflected_shot', 'tip_shot', 'slap_shot',\n",
       "       'backhand_shot', 'snap_shot', 'wrap_shot', 'null_shot', 'state_5v5',\n",
       "       'state_4v4', 'state_3v3', 'state_5v4', 'state_4v3', 'state_5v3',\n",
       "       'state_6v5', 'state_6v4', 'state_4v5', 'state_3v4', 'state_3v5',\n",
       "       'is_forward', 'off_wing'],\n",
       "      dtype='object')"
      ]
     },
     "execution_count": 10,
     "metadata": {},
     "output_type": "execute_result"
    }
   ],
   "source": [
    "# grab a sample of the data to check out \n",
    "main_table_sample = db.query(f\"SELECT * FROM {MAIN_TABLE} LIMIT 500\")\n",
    "main_table_sample.columns "
   ]
  },
  {
   "cell_type": "code",
   "execution_count": 12,
   "metadata": {},
   "outputs": [
    {
     "data": {
      "text/plain": [
       "strength_2\n",
       "EV    399\n",
       "PP     80\n",
       "SH     11\n",
       "Name: count, dtype: int64"
      ]
     },
     "execution_count": 12,
     "metadata": {},
     "output_type": "execute_result"
    }
   ],
   "source": [
    "main_table_sample['strength_2'].value_counts()"
   ]
  }
 ],
 "metadata": {
  "kernelspec": {
   "display_name": "XG_ENV",
   "language": "python",
   "name": "python3"
  },
  "language_info": {
   "codemirror_mode": {
    "name": "ipython",
    "version": 3
   },
   "file_extension": ".py",
   "mimetype": "text/x-python",
   "name": "python",
   "nbconvert_exporter": "python",
   "pygments_lexer": "ipython3",
   "version": "3.10.11"
  },
  "orig_nbformat": 4
 },
 "nbformat": 4,
 "nbformat_minor": 2
}
