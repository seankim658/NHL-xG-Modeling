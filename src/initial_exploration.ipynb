{
 "cells": [
  {
   "cell_type": "code",
   "execution_count": 2,
   "metadata": {},
   "outputs": [],
   "source": [
    "import numpy as np \n",
    "import pandas as pd \n",
    "import matplotlib as plt \n",
    "import seaborn as sns \n",
    "import tensorflow as tf\n",
    "from tensorflow import keras\n",
    "import tensorflow.python.platform.build_info as build\n",
    "from database_connection import DBConn"
   ]
  },
  {
   "cell_type": "code",
   "execution_count": 3,
   "metadata": {},
   "outputs": [
    {
     "name": "stdout",
     "output_type": "stream",
     "text": [
      "TF is cuda build: True\n",
      "Device list: [PhysicalDevice(name='/physical_device:GPU:0', device_type='GPU')]\n"
     ]
    }
   ],
   "source": [
    "# check gpu availability \n",
    "print(f\"TF is cuda build: {build.build_info['is_cuda_build']}\")\n",
    "print(f\"Device list: {tf.config.list_physical_devices('GPU')}\")"
   ]
  },
  {
   "cell_type": "code",
   "execution_count": 4,
   "metadata": {},
   "outputs": [],
   "source": [
    "# setup database connection \n",
    "HOST = 'localhost'\n",
    "USER = 'db_user'\n",
    "PORT = 5438\n",
    "DATABASE = 'shot_db'\n",
    "PASSWORD = 'LetMeIn'\n",
    "TABLE_NAME = 'shot_data_table'\n",
    "\n",
    "db = DBConn()"
   ]
  },
  {
   "cell_type": "code",
   "execution_count": 9,
   "metadata": {},
   "outputs": [
    {
     "data": {
      "text/plain": [
       "Index(['id', 'game_id', 'season', 'game_date', 'game_period', 'shot_event',\n",
       "       'seconds_elapsed', 'strength', 'strength_2', 'event_team', 'away_team',\n",
       "       'home_team', 'position', 'shoots', 'player1', 'player2', 'player3',\n",
       "       'away_player1', 'away_player2', 'away_player3', 'away_player4',\n",
       "       'away_player5', 'away_player6', 'home_player1', 'home_player2',\n",
       "       'home_player3', 'home_player4', 'home_player5', 'home_player6',\n",
       "       'away_players', 'home_players', 'away_score', 'home_score',\n",
       "       'away_goalie', 'home_goalie', 'home_coach', 'away_coach', 'event_zone',\n",
       "       'x', 'y', 'is_home', 'goalie', 'catches', 'shot_type', 'loc', 'corsi',\n",
       "       'fenwick', 'shot', 'goal', 'empty_net', 'xg', 'event_distance',\n",
       "       'event_angle'],\n",
       "      dtype='object')"
      ]
     },
     "execution_count": 9,
     "metadata": {},
     "output_type": "execute_result"
    }
   ],
   "source": [
    "# grab a sample of the data to check out \n",
    "# value = db.query(f\"SELECT * FROM {TABLE_NAME} WHERE shot_event<>'BLOCK' ORDER BY id ASC LIMIT 5000\")\n",
    "value = db.query(f\"SELECT * FROM {TABLE_NAME} WHERE id = 531514\")\n",
    "value.columns "
   ]
  },
  {
   "cell_type": "code",
   "execution_count": 10,
   "metadata": {},
   "outputs": [
    {
     "data": {
      "text/html": [
       "<div>\n",
       "<style scoped>\n",
       "    .dataframe tbody tr th:only-of-type {\n",
       "        vertical-align: middle;\n",
       "    }\n",
       "\n",
       "    .dataframe tbody tr th {\n",
       "        vertical-align: top;\n",
       "    }\n",
       "\n",
       "    .dataframe thead th {\n",
       "        text-align: right;\n",
       "    }\n",
       "</style>\n",
       "<table border=\"1\" class=\"dataframe\">\n",
       "  <thead>\n",
       "    <tr style=\"text-align: right;\">\n",
       "      <th></th>\n",
       "      <th>id</th>\n",
       "      <th>game_id</th>\n",
       "      <th>season</th>\n",
       "      <th>game_date</th>\n",
       "      <th>game_period</th>\n",
       "      <th>shot_event</th>\n",
       "      <th>seconds_elapsed</th>\n",
       "      <th>strength</th>\n",
       "      <th>strength_2</th>\n",
       "      <th>event_team</th>\n",
       "      <th>...</th>\n",
       "      <th>shot_type</th>\n",
       "      <th>loc</th>\n",
       "      <th>corsi</th>\n",
       "      <th>fenwick</th>\n",
       "      <th>shot</th>\n",
       "      <th>goal</th>\n",
       "      <th>empty_net</th>\n",
       "      <th>xg</th>\n",
       "      <th>event_distance</th>\n",
       "      <th>event_angle</th>\n",
       "    </tr>\n",
       "  </thead>\n",
       "  <tbody>\n",
       "    <tr>\n",
       "      <th>0</th>\n",
       "      <td>531514</td>\n",
       "      <td>2010021026</td>\n",
       "      <td>20102011</td>\n",
       "      <td>2011-03-12</td>\n",
       "      <td>3</td>\n",
       "      <td>BLOCK</td>\n",
       "      <td>60</td>\n",
       "      <td>5x5</td>\n",
       "      <td>EV</td>\n",
       "      <td>PHI</td>\n",
       "      <td>...</td>\n",
       "      <td>None</td>\n",
       "      <td>0</td>\n",
       "      <td>1</td>\n",
       "      <td>0</td>\n",
       "      <td>0</td>\n",
       "      <td>0</td>\n",
       "      <td>0</td>\n",
       "      <td>0.0</td>\n",
       "      <td>21.0</td>\n",
       "      <td>0.0</td>\n",
       "    </tr>\n",
       "  </tbody>\n",
       "</table>\n",
       "<p>1 rows × 53 columns</p>\n",
       "</div>"
      ],
      "text/plain": [
       "       id     game_id    season   game_date  game_period shot_event   \n",
       "0  531514  2010021026  20102011  2011-03-12            3      BLOCK  \\\n",
       "\n",
       "   seconds_elapsed strength strength_2 event_team  ... shot_type loc corsi   \n",
       "0               60      5x5         EV        PHI  ...      None   0     1  \\\n",
       "\n",
       "  fenwick shot goal empty_net   xg event_distance event_angle  \n",
       "0       0    0    0         0  0.0           21.0         0.0  \n",
       "\n",
       "[1 rows x 53 columns]"
      ]
     },
     "execution_count": 10,
     "metadata": {},
     "output_type": "execute_result"
    }
   ],
   "source": [
    "value"
   ]
  },
  {
   "cell_type": "code",
   "execution_count": 11,
   "metadata": {},
   "outputs": [
    {
     "data": {
      "text/html": [
       "<div>\n",
       "<style scoped>\n",
       "    .dataframe tbody tr th:only-of-type {\n",
       "        vertical-align: middle;\n",
       "    }\n",
       "\n",
       "    .dataframe tbody tr th {\n",
       "        vertical-align: top;\n",
       "    }\n",
       "\n",
       "    .dataframe thead th {\n",
       "        text-align: right;\n",
       "    }\n",
       "</style>\n",
       "<table border=\"1\" class=\"dataframe\">\n",
       "  <thead>\n",
       "    <tr style=\"text-align: right;\">\n",
       "      <th></th>\n",
       "      <th>id</th>\n",
       "      <th>home_team</th>\n",
       "      <th>away_team</th>\n",
       "      <th>event_team</th>\n",
       "      <th>strength</th>\n",
       "      <th>strength_2</th>\n",
       "      <th>shot_event</th>\n",
       "      <th>shot_type</th>\n",
       "      <th>event_zone</th>\n",
       "      <th>x</th>\n",
       "      <th>y</th>\n",
       "      <th>event_distance</th>\n",
       "      <th>event_angle</th>\n",
       "    </tr>\n",
       "  </thead>\n",
       "  <tbody>\n",
       "    <tr>\n",
       "      <th>0</th>\n",
       "      <td>531514</td>\n",
       "      <td>PHI</td>\n",
       "      <td>ATL</td>\n",
       "      <td>PHI</td>\n",
       "      <td>5x5</td>\n",
       "      <td>EV</td>\n",
       "      <td>BLOCK</td>\n",
       "      <td>None</td>\n",
       "      <td>Off</td>\n",
       "      <td>68</td>\n",
       "      <td>0</td>\n",
       "      <td>21.0</td>\n",
       "      <td>0.0</td>\n",
       "    </tr>\n",
       "  </tbody>\n",
       "</table>\n",
       "</div>"
      ],
      "text/plain": [
       "       id home_team away_team event_team strength strength_2 shot_event   \n",
       "0  531514       PHI       ATL        PHI      5x5         EV      BLOCK  \\\n",
       "\n",
       "  shot_type event_zone   x  y  event_distance  event_angle  \n",
       "0      None        Off  68  0            21.0          0.0  "
      ]
     },
     "execution_count": 11,
     "metadata": {},
     "output_type": "execute_result"
    }
   ],
   "source": [
    "value[['id', 'home_team', 'away_team', 'event_team', 'strength', 'strength_2', 'shot_event', 'shot_type', 'event_zone', 'x', 'y', 'event_distance', 'event_angle']]"
   ]
  },
  {
   "cell_type": "code",
   "execution_count": 15,
   "metadata": {},
   "outputs": [
    {
     "data": {
      "text/plain": [
       "shot_type\n",
       "Wrist          1824\n",
       "Slap           1377\n",
       "Snap            981\n",
       "Backhand        371\n",
       "Tip-In          340\n",
       "Wrap-around      73\n",
       "Deflected        34\n",
       "Name: count, dtype: int64"
      ]
     },
     "execution_count": 15,
     "metadata": {},
     "output_type": "execute_result"
    }
   ],
   "source": [
    "value.value_counts(value['shot_type'])"
   ]
  },
  {
   "cell_type": "code",
   "execution_count": 8,
   "metadata": {},
   "outputs": [
    {
     "data": {
      "text/plain": [
       "str"
      ]
     },
     "execution_count": 8,
     "metadata": {},
     "output_type": "execute_result"
    }
   ],
   "source": [
    "type(value['shot_type'][0])"
   ]
  }
 ],
 "metadata": {
  "kernelspec": {
   "display_name": "XG_ENV",
   "language": "python",
   "name": "python3"
  },
  "language_info": {
   "codemirror_mode": {
    "name": "ipython",
    "version": 3
   },
   "file_extension": ".py",
   "mimetype": "text/x-python",
   "name": "python",
   "nbconvert_exporter": "python",
   "pygments_lexer": "ipython3",
   "version": "3.10.11"
  },
  "orig_nbformat": 4
 },
 "nbformat": 4,
 "nbformat_minor": 2
}
