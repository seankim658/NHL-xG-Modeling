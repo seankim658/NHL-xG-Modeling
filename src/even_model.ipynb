{
 "cells": [
  {
   "cell_type": "code",
   "execution_count": null,
   "metadata": {},
   "outputs": [],
   "source": [
    "import pandas as pd \n",
    "import numpy as np \n",
    "import matplotlib as plt \n",
    "import seaborn as sns \n",
    "import tensorflow as tf \n",
    "from tensorflow import keras \n",
    "import tensorflow.python.platform.build_info as build\n",
    "from database_connection import DBConn\n",
    "# from sklearn import "
   ]
  },
  {
   "cell_type": "code",
   "execution_count": null,
   "metadata": {},
   "outputs": [],
   "source": []
  }
 ],
 "metadata": {
  "language_info": {
   "name": "python"
  },
  "orig_nbformat": 4
 },
 "nbformat": 4,
 "nbformat_minor": 2
}
