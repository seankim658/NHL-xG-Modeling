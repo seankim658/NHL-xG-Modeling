{
 "cells": [
  {
   "attachments": {},
   "cell_type": "markdown",
   "metadata": {},
   "source": [
    "# Setup"
   ]
  },
  {
   "cell_type": "code",
   "execution_count": 77,
   "metadata": {},
   "outputs": [],
   "source": [
    "import pandas as pd \n",
    "import numpy as np\n",
    "import pickle \n",
    "import matplotlib.pyplot as plt \n",
    "import seaborn as sns \n",
    "import tensorflow as tf \n",
    "from tensorflow import keras \n",
    "import tensorflow.python.platform.build_info as build\n",
    "from database_connection import DBConn\n",
    "from sklearn.model_selection import train_test_split, RandomizedSearchCV, GridSearchCV\n",
    "from sklearn.compose import ColumnTransformer\n",
    "from sklearn.preprocessing import MinMaxScaler\n",
    "from sklearn.linear_model import LogisticRegression\n",
    "from sklearn.metrics import confusion_matrix, f1_score, classification_report, roc_curve, roc_auc_score\n",
    "from sklearn.ensemble import RandomForestClassifier\n",
    "import xgboost as xgb "
   ]
  },
  {
   "cell_type": "code",
   "execution_count": 2,
   "metadata": {},
   "outputs": [
    {
     "name": "stdout",
     "output_type": "stream",
     "text": [
      "TF is cuda build: True\n",
      "Device list: [PhysicalDevice(name='/physical_device:GPU:0', device_type='GPU')]\n"
     ]
    }
   ],
   "source": [
    "# check GPU availability \n",
    "print(f\"TF is cuda build: {build.build_info['is_cuda_build']}\")\n",
    "print(f\"Device list: {tf.config.list_physical_devices('GPU')}\")"
   ]
  },
  {
   "cell_type": "code",
   "execution_count": 3,
   "metadata": {},
   "outputs": [],
   "source": [
    "# globals \n",
    "TABLE = 'even_shot_data_table'\n",
    "FEATURES = ['event_distance', 'event_angle', 'seconds_elapsed', 'game_period', 'x', 'y', \n",
    "            'is_home', 'score_down_4', 'score_down_3', 'score_down_2', 'score_down_1', \n",
    "            'score_up_4', 'score_up_3', 'score_up_2', 'score_up_1', 'score_even', 'wrist_shot', \n",
    "            'deflected_shot', 'tip_shot', 'slap_shot', 'backhand_shot', 'snap_shot', \n",
    "            'wrap_shot', 'state_5v5', 'state_4v4', 'state_3v3', 'goal']\n",
    "\n",
    "# database connection \n",
    "db = DBConn()"
   ]
  },
  {
   "cell_type": "code",
   "execution_count": 4,
   "metadata": {},
   "outputs": [
    {
     "data": {
      "text/html": [
       "<div>\n",
       "<style scoped>\n",
       "    .dataframe tbody tr th:only-of-type {\n",
       "        vertical-align: middle;\n",
       "    }\n",
       "\n",
       "    .dataframe tbody tr th {\n",
       "        vertical-align: top;\n",
       "    }\n",
       "\n",
       "    .dataframe thead th {\n",
       "        text-align: right;\n",
       "    }\n",
       "</style>\n",
       "<table border=\"1\" class=\"dataframe\">\n",
       "  <thead>\n",
       "    <tr style=\"text-align: right;\">\n",
       "      <th></th>\n",
       "      <th>id</th>\n",
       "      <th>game_id</th>\n",
       "      <th>season</th>\n",
       "      <th>game_date</th>\n",
       "      <th>game_period</th>\n",
       "      <th>shot_event</th>\n",
       "      <th>seconds_elapsed</th>\n",
       "      <th>strength</th>\n",
       "      <th>strength_2</th>\n",
       "      <th>event_team</th>\n",
       "      <th>...</th>\n",
       "      <th>state_5v4</th>\n",
       "      <th>state_4v3</th>\n",
       "      <th>state_5v3</th>\n",
       "      <th>state_6v5</th>\n",
       "      <th>state_6v4</th>\n",
       "      <th>state_4v5</th>\n",
       "      <th>state_3v4</th>\n",
       "      <th>state_3v5</th>\n",
       "      <th>is_forward</th>\n",
       "      <th>off_wing</th>\n",
       "    </tr>\n",
       "  </thead>\n",
       "  <tbody>\n",
       "    <tr>\n",
       "      <th>0</th>\n",
       "      <td>524157</td>\n",
       "      <td>2010020961</td>\n",
       "      <td>20102011</td>\n",
       "      <td>2011-03-03</td>\n",
       "      <td>2</td>\n",
       "      <td>SHOT</td>\n",
       "      <td>53</td>\n",
       "      <td>5x5</td>\n",
       "      <td>EV</td>\n",
       "      <td>BUF</td>\n",
       "      <td>...</td>\n",
       "      <td>0</td>\n",
       "      <td>0</td>\n",
       "      <td>0</td>\n",
       "      <td>0</td>\n",
       "      <td>0</td>\n",
       "      <td>0</td>\n",
       "      <td>0</td>\n",
       "      <td>0</td>\n",
       "      <td>1</td>\n",
       "      <td>0</td>\n",
       "    </tr>\n",
       "    <tr>\n",
       "      <th>1</th>\n",
       "      <td>524177</td>\n",
       "      <td>2010020961</td>\n",
       "      <td>20102011</td>\n",
       "      <td>2011-03-03</td>\n",
       "      <td>2</td>\n",
       "      <td>GOAL</td>\n",
       "      <td>612</td>\n",
       "      <td>5x5</td>\n",
       "      <td>EV</td>\n",
       "      <td>BUF</td>\n",
       "      <td>...</td>\n",
       "      <td>0</td>\n",
       "      <td>0</td>\n",
       "      <td>0</td>\n",
       "      <td>0</td>\n",
       "      <td>0</td>\n",
       "      <td>0</td>\n",
       "      <td>0</td>\n",
       "      <td>0</td>\n",
       "      <td>1</td>\n",
       "      <td>1</td>\n",
       "    </tr>\n",
       "    <tr>\n",
       "      <th>2</th>\n",
       "      <td>524179</td>\n",
       "      <td>2010020961</td>\n",
       "      <td>20102011</td>\n",
       "      <td>2011-03-03</td>\n",
       "      <td>2</td>\n",
       "      <td>MISS</td>\n",
       "      <td>702</td>\n",
       "      <td>5x5</td>\n",
       "      <td>EV</td>\n",
       "      <td>BUF</td>\n",
       "      <td>...</td>\n",
       "      <td>0</td>\n",
       "      <td>0</td>\n",
       "      <td>0</td>\n",
       "      <td>0</td>\n",
       "      <td>0</td>\n",
       "      <td>0</td>\n",
       "      <td>0</td>\n",
       "      <td>0</td>\n",
       "      <td>0</td>\n",
       "      <td>0</td>\n",
       "    </tr>\n",
       "    <tr>\n",
       "      <th>3</th>\n",
       "      <td>524260</td>\n",
       "      <td>2010020962</td>\n",
       "      <td>20102011</td>\n",
       "      <td>2011-03-03</td>\n",
       "      <td>1</td>\n",
       "      <td>MISS</td>\n",
       "      <td>496</td>\n",
       "      <td>5x5</td>\n",
       "      <td>EV</td>\n",
       "      <td>OTT</td>\n",
       "      <td>...</td>\n",
       "      <td>0</td>\n",
       "      <td>0</td>\n",
       "      <td>0</td>\n",
       "      <td>0</td>\n",
       "      <td>0</td>\n",
       "      <td>0</td>\n",
       "      <td>0</td>\n",
       "      <td>0</td>\n",
       "      <td>1</td>\n",
       "      <td>1</td>\n",
       "    </tr>\n",
       "    <tr>\n",
       "      <th>4</th>\n",
       "      <td>524285</td>\n",
       "      <td>2010020962</td>\n",
       "      <td>20102011</td>\n",
       "      <td>2011-03-03</td>\n",
       "      <td>1</td>\n",
       "      <td>SHOT</td>\n",
       "      <td>1160</td>\n",
       "      <td>5x5</td>\n",
       "      <td>EV</td>\n",
       "      <td>ATL</td>\n",
       "      <td>...</td>\n",
       "      <td>0</td>\n",
       "      <td>0</td>\n",
       "      <td>0</td>\n",
       "      <td>0</td>\n",
       "      <td>0</td>\n",
       "      <td>0</td>\n",
       "      <td>0</td>\n",
       "      <td>0</td>\n",
       "      <td>0</td>\n",
       "      <td>1</td>\n",
       "    </tr>\n",
       "  </tbody>\n",
       "</table>\n",
       "<p>5 rows × 83 columns</p>\n",
       "</div>"
      ],
      "text/plain": [
       "       id     game_id    season   game_date  game_period shot_event   \n",
       "0  524157  2010020961  20102011  2011-03-03            2       SHOT  \\\n",
       "1  524177  2010020961  20102011  2011-03-03            2       GOAL   \n",
       "2  524179  2010020961  20102011  2011-03-03            2       MISS   \n",
       "3  524260  2010020962  20102011  2011-03-03            1       MISS   \n",
       "4  524285  2010020962  20102011  2011-03-03            1       SHOT   \n",
       "\n",
       "   seconds_elapsed strength strength_2 event_team  ... state_5v4 state_4v3   \n",
       "0               53      5x5         EV        BUF  ...         0         0  \\\n",
       "1              612      5x5         EV        BUF  ...         0         0   \n",
       "2              702      5x5         EV        BUF  ...         0         0   \n",
       "3              496      5x5         EV        OTT  ...         0         0   \n",
       "4             1160      5x5         EV        ATL  ...         0         0   \n",
       "\n",
       "  state_5v3 state_6v5 state_6v4 state_4v5 state_3v4 state_3v5 is_forward   \n",
       "0         0         0         0         0         0         0          1  \\\n",
       "1         0         0         0         0         0         0          1   \n",
       "2         0         0         0         0         0         0          0   \n",
       "3         0         0         0         0         0         0          1   \n",
       "4         0         0         0         0         0         0          0   \n",
       "\n",
       "  off_wing  \n",
       "0        0  \n",
       "1        1  \n",
       "2        0  \n",
       "3        1  \n",
       "4        1  \n",
       "\n",
       "[5 rows x 83 columns]"
      ]
     },
     "execution_count": 4,
     "metadata": {},
     "output_type": "execute_result"
    }
   ],
   "source": [
    "# load the data in and check out a sample \n",
    "raw_df = db.query_with_copy(f'SELECT * FROM {TABLE}')\n",
    "raw_df.head() "
   ]
  },
  {
   "attachments": {},
   "cell_type": "markdown",
   "metadata": {},
   "source": [
    "# Initial Exploration"
   ]
  },
  {
   "cell_type": "code",
   "execution_count": 5,
   "metadata": {},
   "outputs": [
    {
     "data": {
      "text/plain": [
       "(1273536, 83)"
      ]
     },
     "execution_count": 5,
     "metadata": {},
     "output_type": "execute_result"
    }
   ],
   "source": [
    "raw_df.shape"
   ]
  },
  {
   "cell_type": "code",
   "execution_count": 6,
   "metadata": {},
   "outputs": [
    {
     "data": {
      "text/plain": [
       "goal\n",
       "0    1196125\n",
       "1      77411\n",
       "Name: count, dtype: int64"
      ]
     },
     "execution_count": 6,
     "metadata": {},
     "output_type": "execute_result"
    }
   ],
   "source": [
    "# check label distribution \n",
    "raw_df['goal'].value_counts()"
   ]
  },
  {
   "cell_type": "code",
   "execution_count": 7,
   "metadata": {},
   "outputs": [
    {
     "data": {
      "text/plain": [
       "(77411, 83)"
      ]
     },
     "execution_count": 7,
     "metadata": {},
     "output_type": "execute_result"
    }
   ],
   "source": [
    "# check that the shot_event and goal columns line up \n",
    "raw_df[raw_df['shot_event'] == 'GOAL'].shape"
   ]
  },
  {
   "cell_type": "code",
   "execution_count": 8,
   "metadata": {},
   "outputs": [
    {
     "data": {
      "text/plain": [
       "shot_event\n",
       "SHOT    841932\n",
       "MISS    354193\n",
       "GOAL     77411\n",
       "Name: count, dtype: int64"
      ]
     },
     "execution_count": 8,
     "metadata": {},
     "output_type": "execute_result"
    }
   ],
   "source": [
    "# check shot_event distribution \n",
    "raw_df['shot_event'].value_counts()"
   ]
  },
  {
   "cell_type": "code",
   "execution_count": 9,
   "metadata": {},
   "outputs": [
    {
     "name": "stdout",
     "output_type": "stream",
     "text": [
      "id                       0\n",
      "game_id                  0\n",
      "season                   0\n",
      "game_date                0\n",
      "game_period              0\n",
      "shot_event               0\n",
      "seconds_elapsed          0\n",
      "strength                 0\n",
      "strength_2           30222\n",
      "event_team               0\n",
      "away_team                0\n",
      "home_team                0\n",
      "position                 0\n",
      "shoots                   0\n",
      "player1                  0\n",
      "player2            1201377\n",
      "player3            1216547\n",
      "away_player1          4297\n",
      "away_player2          6024\n",
      "away_player3          5684\n",
      "away_player4          6992\n",
      "away_player5         13323\n",
      "away_player6         48510\n",
      "home_player1          4308\n",
      "home_player2          5369\n",
      "home_player3          6018\n",
      "home_player4          7119\n",
      "home_player5         13022\n",
      "home_player6         47865\n",
      "away_players             0\n",
      "home_players             0\n",
      "away_score               0\n",
      "home_score               0\n",
      "away_goalie          20004\n",
      "home_goalie          18847\n",
      "home_coach               0\n",
      "away_coach               0\n",
      "event_zone               0\n",
      "x                        0\n",
      "y                        0\n",
      "is_home                  0\n",
      "goalie               10612\n",
      "catches              10612\n",
      "shot_type                0\n",
      "loc                      0\n",
      "corsi                    0\n",
      "fenwick                  0\n",
      "shot                     0\n",
      "goal                     0\n",
      "empty_net                0\n",
      "xg                       0\n",
      "event_distance           0\n",
      "event_angle              0\n",
      "score_down_4             0\n",
      "score_down_3             0\n",
      "score_down_2             0\n",
      "score_down_1             0\n",
      "score_up_4               0\n",
      "score_up_3               0\n",
      "score_up_2               0\n",
      "score_up_1               0\n",
      "score_even               0\n",
      "wrist_shot               0\n",
      "deflected_shot           0\n",
      "tip_shot                 0\n",
      "slap_shot                0\n",
      "backhand_shot            0\n",
      "snap_shot                0\n",
      "wrap_shot                0\n",
      "null_shot                0\n",
      "state_5v5                0\n",
      "state_4v4                0\n",
      "state_3v3                0\n",
      "state_5v4                0\n",
      "state_4v3                0\n",
      "state_5v3                0\n",
      "state_6v5                0\n",
      "state_6v4                0\n",
      "state_4v5                0\n",
      "state_3v4                0\n",
      "state_3v5                0\n",
      "is_forward               0\n",
      "off_wing                 0\n",
      "dtype: int64\n"
     ]
    }
   ],
   "source": [
    "# look at null values \n",
    "with pd.option_context('display.max_rows', None, 'display.max_columns', None):\n",
    "    print(raw_df.isnull().sum())"
   ]
  },
  {
   "cell_type": "code",
   "execution_count": 10,
   "metadata": {},
   "outputs": [
    {
     "data": {
      "text/plain": [
       "strength\n",
       "5x5    1229507\n",
       "4x4      35153\n",
       "3x3       8876\n",
       "Name: count, dtype: int64"
      ]
     },
     "execution_count": 10,
     "metadata": {},
     "output_type": "execute_result"
    }
   ],
   "source": [
    "# make sure only even strength data is present  \n",
    "raw_df['strength'].value_counts()"
   ]
  },
  {
   "attachments": {},
   "cell_type": "markdown",
   "metadata": {},
   "source": [
    "# Isolate Relevant Data"
   ]
  },
  {
   "cell_type": "code",
   "execution_count": 11,
   "metadata": {},
   "outputs": [
    {
     "data": {
      "text/html": [
       "<div>\n",
       "<style scoped>\n",
       "    .dataframe tbody tr th:only-of-type {\n",
       "        vertical-align: middle;\n",
       "    }\n",
       "\n",
       "    .dataframe tbody tr th {\n",
       "        vertical-align: top;\n",
       "    }\n",
       "\n",
       "    .dataframe thead th {\n",
       "        text-align: right;\n",
       "    }\n",
       "</style>\n",
       "<table border=\"1\" class=\"dataframe\">\n",
       "  <thead>\n",
       "    <tr style=\"text-align: right;\">\n",
       "      <th></th>\n",
       "      <th>event_distance</th>\n",
       "      <th>event_angle</th>\n",
       "      <th>seconds_elapsed</th>\n",
       "      <th>game_period</th>\n",
       "      <th>x</th>\n",
       "      <th>y</th>\n",
       "      <th>is_home</th>\n",
       "      <th>score_down_4</th>\n",
       "      <th>score_down_3</th>\n",
       "      <th>score_down_2</th>\n",
       "      <th>...</th>\n",
       "      <th>deflected_shot</th>\n",
       "      <th>tip_shot</th>\n",
       "      <th>slap_shot</th>\n",
       "      <th>backhand_shot</th>\n",
       "      <th>snap_shot</th>\n",
       "      <th>wrap_shot</th>\n",
       "      <th>state_5v5</th>\n",
       "      <th>state_4v4</th>\n",
       "      <th>state_3v3</th>\n",
       "      <th>goal</th>\n",
       "    </tr>\n",
       "  </thead>\n",
       "  <tbody>\n",
       "    <tr>\n",
       "      <th>705909</th>\n",
       "      <td>19.104973</td>\n",
       "      <td>42.878904</td>\n",
       "      <td>1092</td>\n",
       "      <td>1</td>\n",
       "      <td>75</td>\n",
       "      <td>-13</td>\n",
       "      <td>1</td>\n",
       "      <td>0</td>\n",
       "      <td>0</td>\n",
       "      <td>0</td>\n",
       "      <td>...</td>\n",
       "      <td>0</td>\n",
       "      <td>0</td>\n",
       "      <td>0</td>\n",
       "      <td>0</td>\n",
       "      <td>1</td>\n",
       "      <td>0</td>\n",
       "      <td>1</td>\n",
       "      <td>0</td>\n",
       "      <td>0</td>\n",
       "      <td>0</td>\n",
       "    </tr>\n",
       "    <tr>\n",
       "      <th>523241</th>\n",
       "      <td>8.544004</td>\n",
       "      <td>20.556045</td>\n",
       "      <td>514</td>\n",
       "      <td>1</td>\n",
       "      <td>81</td>\n",
       "      <td>-3</td>\n",
       "      <td>1</td>\n",
       "      <td>0</td>\n",
       "      <td>0</td>\n",
       "      <td>0</td>\n",
       "      <td>...</td>\n",
       "      <td>0</td>\n",
       "      <td>0</td>\n",
       "      <td>0</td>\n",
       "      <td>0</td>\n",
       "      <td>0</td>\n",
       "      <td>0</td>\n",
       "      <td>1</td>\n",
       "      <td>0</td>\n",
       "      <td>0</td>\n",
       "      <td>0</td>\n",
       "    </tr>\n",
       "    <tr>\n",
       "      <th>735729</th>\n",
       "      <td>10.770330</td>\n",
       "      <td>21.801409</td>\n",
       "      <td>23</td>\n",
       "      <td>2</td>\n",
       "      <td>79</td>\n",
       "      <td>4</td>\n",
       "      <td>0</td>\n",
       "      <td>0</td>\n",
       "      <td>0</td>\n",
       "      <td>0</td>\n",
       "      <td>...</td>\n",
       "      <td>0</td>\n",
       "      <td>0</td>\n",
       "      <td>0</td>\n",
       "      <td>0</td>\n",
       "      <td>1</td>\n",
       "      <td>0</td>\n",
       "      <td>1</td>\n",
       "      <td>0</td>\n",
       "      <td>0</td>\n",
       "      <td>0</td>\n",
       "    </tr>\n",
       "    <tr>\n",
       "      <th>969182</th>\n",
       "      <td>71.386273</td>\n",
       "      <td>11.309932</td>\n",
       "      <td>343</td>\n",
       "      <td>3</td>\n",
       "      <td>19</td>\n",
       "      <td>-14</td>\n",
       "      <td>0</td>\n",
       "      <td>0</td>\n",
       "      <td>0</td>\n",
       "      <td>0</td>\n",
       "      <td>...</td>\n",
       "      <td>0</td>\n",
       "      <td>0</td>\n",
       "      <td>0</td>\n",
       "      <td>0</td>\n",
       "      <td>1</td>\n",
       "      <td>0</td>\n",
       "      <td>1</td>\n",
       "      <td>0</td>\n",
       "      <td>0</td>\n",
       "      <td>0</td>\n",
       "    </tr>\n",
       "    <tr>\n",
       "      <th>1226601</th>\n",
       "      <td>40.224371</td>\n",
       "      <td>55.124672</td>\n",
       "      <td>605</td>\n",
       "      <td>2</td>\n",
       "      <td>66</td>\n",
       "      <td>33</td>\n",
       "      <td>1</td>\n",
       "      <td>0</td>\n",
       "      <td>0</td>\n",
       "      <td>0</td>\n",
       "      <td>...</td>\n",
       "      <td>0</td>\n",
       "      <td>0</td>\n",
       "      <td>0</td>\n",
       "      <td>0</td>\n",
       "      <td>1</td>\n",
       "      <td>0</td>\n",
       "      <td>1</td>\n",
       "      <td>0</td>\n",
       "      <td>0</td>\n",
       "      <td>0</td>\n",
       "    </tr>\n",
       "    <tr>\n",
       "      <th>946841</th>\n",
       "      <td>42.449971</td>\n",
       "      <td>43.090848</td>\n",
       "      <td>1082</td>\n",
       "      <td>2</td>\n",
       "      <td>58</td>\n",
       "      <td>29</td>\n",
       "      <td>0</td>\n",
       "      <td>0</td>\n",
       "      <td>0</td>\n",
       "      <td>0</td>\n",
       "      <td>...</td>\n",
       "      <td>0</td>\n",
       "      <td>0</td>\n",
       "      <td>0</td>\n",
       "      <td>0</td>\n",
       "      <td>1</td>\n",
       "      <td>0</td>\n",
       "      <td>1</td>\n",
       "      <td>0</td>\n",
       "      <td>0</td>\n",
       "      <td>0</td>\n",
       "    </tr>\n",
       "    <tr>\n",
       "      <th>312390</th>\n",
       "      <td>36.000000</td>\n",
       "      <td>0.000000</td>\n",
       "      <td>901</td>\n",
       "      <td>1</td>\n",
       "      <td>53</td>\n",
       "      <td>0</td>\n",
       "      <td>0</td>\n",
       "      <td>0</td>\n",
       "      <td>0</td>\n",
       "      <td>0</td>\n",
       "      <td>...</td>\n",
       "      <td>0</td>\n",
       "      <td>0</td>\n",
       "      <td>0</td>\n",
       "      <td>0</td>\n",
       "      <td>0</td>\n",
       "      <td>0</td>\n",
       "      <td>1</td>\n",
       "      <td>0</td>\n",
       "      <td>0</td>\n",
       "      <td>1</td>\n",
       "    </tr>\n",
       "    <tr>\n",
       "      <th>115019</th>\n",
       "      <td>30.232433</td>\n",
       "      <td>55.784298</td>\n",
       "      <td>154</td>\n",
       "      <td>3</td>\n",
       "      <td>72</td>\n",
       "      <td>-25</td>\n",
       "      <td>0</td>\n",
       "      <td>0</td>\n",
       "      <td>0</td>\n",
       "      <td>0</td>\n",
       "      <td>...</td>\n",
       "      <td>0</td>\n",
       "      <td>0</td>\n",
       "      <td>0</td>\n",
       "      <td>0</td>\n",
       "      <td>0</td>\n",
       "      <td>0</td>\n",
       "      <td>1</td>\n",
       "      <td>0</td>\n",
       "      <td>0</td>\n",
       "      <td>0</td>\n",
       "    </tr>\n",
       "    <tr>\n",
       "      <th>941449</th>\n",
       "      <td>40.261644</td>\n",
       "      <td>14.381395</td>\n",
       "      <td>703</td>\n",
       "      <td>3</td>\n",
       "      <td>50</td>\n",
       "      <td>-10</td>\n",
       "      <td>1</td>\n",
       "      <td>0</td>\n",
       "      <td>0</td>\n",
       "      <td>0</td>\n",
       "      <td>...</td>\n",
       "      <td>0</td>\n",
       "      <td>0</td>\n",
       "      <td>0</td>\n",
       "      <td>0</td>\n",
       "      <td>0</td>\n",
       "      <td>0</td>\n",
       "      <td>1</td>\n",
       "      <td>0</td>\n",
       "      <td>0</td>\n",
       "      <td>1</td>\n",
       "    </tr>\n",
       "    <tr>\n",
       "      <th>549803</th>\n",
       "      <td>54.424259</td>\n",
       "      <td>20.432829</td>\n",
       "      <td>29</td>\n",
       "      <td>3</td>\n",
       "      <td>38</td>\n",
       "      <td>-19</td>\n",
       "      <td>1</td>\n",
       "      <td>0</td>\n",
       "      <td>0</td>\n",
       "      <td>0</td>\n",
       "      <td>...</td>\n",
       "      <td>0</td>\n",
       "      <td>0</td>\n",
       "      <td>1</td>\n",
       "      <td>0</td>\n",
       "      <td>0</td>\n",
       "      <td>0</td>\n",
       "      <td>0</td>\n",
       "      <td>1</td>\n",
       "      <td>0</td>\n",
       "      <td>0</td>\n",
       "    </tr>\n",
       "  </tbody>\n",
       "</table>\n",
       "<p>10 rows × 27 columns</p>\n",
       "</div>"
      ],
      "text/plain": [
       "         event_distance  event_angle  seconds_elapsed  game_period   x   y   \n",
       "705909        19.104973    42.878904             1092            1  75 -13  \\\n",
       "523241         8.544004    20.556045              514            1  81  -3   \n",
       "735729        10.770330    21.801409               23            2  79   4   \n",
       "969182        71.386273    11.309932              343            3  19 -14   \n",
       "1226601       40.224371    55.124672              605            2  66  33   \n",
       "946841        42.449971    43.090848             1082            2  58  29   \n",
       "312390        36.000000     0.000000              901            1  53   0   \n",
       "115019        30.232433    55.784298              154            3  72 -25   \n",
       "941449        40.261644    14.381395              703            3  50 -10   \n",
       "549803        54.424259    20.432829               29            3  38 -19   \n",
       "\n",
       "         is_home  score_down_4  score_down_3  score_down_2  ...   \n",
       "705909         1             0             0             0  ...  \\\n",
       "523241         1             0             0             0  ...   \n",
       "735729         0             0             0             0  ...   \n",
       "969182         0             0             0             0  ...   \n",
       "1226601        1             0             0             0  ...   \n",
       "946841         0             0             0             0  ...   \n",
       "312390         0             0             0             0  ...   \n",
       "115019         0             0             0             0  ...   \n",
       "941449         1             0             0             0  ...   \n",
       "549803         1             0             0             0  ...   \n",
       "\n",
       "         deflected_shot  tip_shot  slap_shot  backhand_shot  snap_shot   \n",
       "705909                0         0          0              0          1  \\\n",
       "523241                0         0          0              0          0   \n",
       "735729                0         0          0              0          1   \n",
       "969182                0         0          0              0          1   \n",
       "1226601               0         0          0              0          1   \n",
       "946841                0         0          0              0          1   \n",
       "312390                0         0          0              0          0   \n",
       "115019                0         0          0              0          0   \n",
       "941449                0         0          0              0          0   \n",
       "549803                0         0          1              0          0   \n",
       "\n",
       "         wrap_shot  state_5v5  state_4v4  state_3v3  goal  \n",
       "705909           0          1          0          0     0  \n",
       "523241           0          1          0          0     0  \n",
       "735729           0          1          0          0     0  \n",
       "969182           0          1          0          0     0  \n",
       "1226601          0          1          0          0     0  \n",
       "946841           0          1          0          0     0  \n",
       "312390           0          1          0          0     1  \n",
       "115019           0          1          0          0     0  \n",
       "941449           0          1          0          0     1  \n",
       "549803           0          0          1          0     0  \n",
       "\n",
       "[10 rows x 27 columns]"
      ]
     },
     "execution_count": 11,
     "metadata": {},
     "output_type": "execute_result"
    }
   ],
   "source": [
    "df = raw_df[FEATURES]\n",
    "df.sample(10)"
   ]
  },
  {
   "cell_type": "code",
   "execution_count": 12,
   "metadata": {},
   "outputs": [
    {
     "data": {
      "text/plain": [
       "event_distance     0\n",
       "event_angle        0\n",
       "seconds_elapsed    0\n",
       "game_period        0\n",
       "x                  0\n",
       "y                  0\n",
       "is_home            0\n",
       "score_down_4       0\n",
       "score_down_3       0\n",
       "score_down_2       0\n",
       "score_down_1       0\n",
       "score_up_4         0\n",
       "score_up_3         0\n",
       "score_up_2         0\n",
       "score_up_1         0\n",
       "score_even         0\n",
       "wrist_shot         0\n",
       "deflected_shot     0\n",
       "tip_shot           0\n",
       "slap_shot          0\n",
       "backhand_shot      0\n",
       "snap_shot          0\n",
       "wrap_shot          0\n",
       "state_5v5          0\n",
       "state_4v4          0\n",
       "state_3v3          0\n",
       "goal               0\n",
       "dtype: int64"
      ]
     },
     "execution_count": 12,
     "metadata": {},
     "output_type": "execute_result"
    }
   ],
   "source": [
    "df.isnull().sum()"
   ]
  },
  {
   "cell_type": "code",
   "execution_count": 13,
   "metadata": {},
   "outputs": [
    {
     "data": {
      "text/html": [
       "<div>\n",
       "<style scoped>\n",
       "    .dataframe tbody tr th:only-of-type {\n",
       "        vertical-align: middle;\n",
       "    }\n",
       "\n",
       "    .dataframe tbody tr th {\n",
       "        vertical-align: top;\n",
       "    }\n",
       "\n",
       "    .dataframe thead th {\n",
       "        text-align: right;\n",
       "    }\n",
       "</style>\n",
       "<table border=\"1\" class=\"dataframe\">\n",
       "  <thead>\n",
       "    <tr style=\"text-align: right;\">\n",
       "      <th></th>\n",
       "      <th>event_distance</th>\n",
       "      <th>event_angle</th>\n",
       "      <th>seconds_elapsed</th>\n",
       "      <th>game_period</th>\n",
       "      <th>x</th>\n",
       "      <th>y</th>\n",
       "      <th>is_home</th>\n",
       "      <th>score_down_4</th>\n",
       "      <th>score_down_3</th>\n",
       "      <th>score_down_2</th>\n",
       "      <th>...</th>\n",
       "      <th>deflected_shot</th>\n",
       "      <th>tip_shot</th>\n",
       "      <th>slap_shot</th>\n",
       "      <th>backhand_shot</th>\n",
       "      <th>snap_shot</th>\n",
       "      <th>wrap_shot</th>\n",
       "      <th>state_5v5</th>\n",
       "      <th>state_4v4</th>\n",
       "      <th>state_3v3</th>\n",
       "      <th>goal</th>\n",
       "    </tr>\n",
       "  </thead>\n",
       "  <tbody>\n",
       "    <tr>\n",
       "      <th>count</th>\n",
       "      <td>1.273536e+06</td>\n",
       "      <td>1.273536e+06</td>\n",
       "      <td>1.273536e+06</td>\n",
       "      <td>1.273536e+06</td>\n",
       "      <td>1.273536e+06</td>\n",
       "      <td>1.273536e+06</td>\n",
       "      <td>1.273536e+06</td>\n",
       "      <td>1.273536e+06</td>\n",
       "      <td>1.273536e+06</td>\n",
       "      <td>1.273536e+06</td>\n",
       "      <td>...</td>\n",
       "      <td>1.273536e+06</td>\n",
       "      <td>1.273536e+06</td>\n",
       "      <td>1.273536e+06</td>\n",
       "      <td>1.273536e+06</td>\n",
       "      <td>1.273536e+06</td>\n",
       "      <td>1.273536e+06</td>\n",
       "      <td>1.273536e+06</td>\n",
       "      <td>1.273536e+06</td>\n",
       "      <td>1.273536e+06</td>\n",
       "      <td>1.273536e+06</td>\n",
       "    </tr>\n",
       "    <tr>\n",
       "      <th>mean</th>\n",
       "      <td>3.630366e+01</td>\n",
       "      <td>3.060605e+01</td>\n",
       "      <td>5.875719e+02</td>\n",
       "      <td>2.038210e+00</td>\n",
       "      <td>5.830303e+01</td>\n",
       "      <td>-1.502007e-01</td>\n",
       "      <td>5.123208e-01</td>\n",
       "      <td>2.116469e-02</td>\n",
       "      <td>3.738175e-02</td>\n",
       "      <td>9.004221e-02</td>\n",
       "      <td>...</td>\n",
       "      <td>2.013449e-02</td>\n",
       "      <td>5.798972e-02</td>\n",
       "      <td>1.818472e-01</td>\n",
       "      <td>7.987839e-02</td>\n",
       "      <td>1.399662e-01</td>\n",
       "      <td>1.152304e-02</td>\n",
       "      <td>9.654278e-01</td>\n",
       "      <td>2.760267e-02</td>\n",
       "      <td>6.969571e-03</td>\n",
       "      <td>6.078430e-02</td>\n",
       "    </tr>\n",
       "    <tr>\n",
       "      <th>std</th>\n",
       "      <td>2.220291e+01</td>\n",
       "      <td>2.022701e+01</td>\n",
       "      <td>3.495740e+02</td>\n",
       "      <td>8.544822e-01</td>\n",
       "      <td>2.227445e+01</td>\n",
       "      <td>1.929888e+01</td>\n",
       "      <td>4.998484e-01</td>\n",
       "      <td>1.439332e-01</td>\n",
       "      <td>1.896955e-01</td>\n",
       "      <td>2.862423e-01</td>\n",
       "      <td>...</td>\n",
       "      <td>1.404603e-01</td>\n",
       "      <td>2.337241e-01</td>\n",
       "      <td>3.857187e-01</td>\n",
       "      <td>2.711049e-01</td>\n",
       "      <td>3.469521e-01</td>\n",
       "      <td>1.067252e-01</td>\n",
       "      <td>1.826938e-01</td>\n",
       "      <td>1.638316e-01</td>\n",
       "      <td>8.319256e-02</td>\n",
       "      <td>2.389343e-01</td>\n",
       "    </tr>\n",
       "    <tr>\n",
       "      <th>min</th>\n",
       "      <td>1.000000e+00</td>\n",
       "      <td>0.000000e+00</td>\n",
       "      <td>0.000000e+00</td>\n",
       "      <td>1.000000e+00</td>\n",
       "      <td>-9.900000e+01</td>\n",
       "      <td>-4.300000e+01</td>\n",
       "      <td>0.000000e+00</td>\n",
       "      <td>0.000000e+00</td>\n",
       "      <td>0.000000e+00</td>\n",
       "      <td>0.000000e+00</td>\n",
       "      <td>...</td>\n",
       "      <td>0.000000e+00</td>\n",
       "      <td>0.000000e+00</td>\n",
       "      <td>0.000000e+00</td>\n",
       "      <td>0.000000e+00</td>\n",
       "      <td>0.000000e+00</td>\n",
       "      <td>0.000000e+00</td>\n",
       "      <td>0.000000e+00</td>\n",
       "      <td>0.000000e+00</td>\n",
       "      <td>0.000000e+00</td>\n",
       "      <td>0.000000e+00</td>\n",
       "    </tr>\n",
       "    <tr>\n",
       "      <th>25%</th>\n",
       "      <td>1.868154e+01</td>\n",
       "      <td>1.552411e+01</td>\n",
       "      <td>2.780000e+02</td>\n",
       "      <td>1.000000e+00</td>\n",
       "      <td>4.400000e+01</td>\n",
       "      <td>-1.500000e+01</td>\n",
       "      <td>0.000000e+00</td>\n",
       "      <td>0.000000e+00</td>\n",
       "      <td>0.000000e+00</td>\n",
       "      <td>0.000000e+00</td>\n",
       "      <td>...</td>\n",
       "      <td>0.000000e+00</td>\n",
       "      <td>0.000000e+00</td>\n",
       "      <td>0.000000e+00</td>\n",
       "      <td>0.000000e+00</td>\n",
       "      <td>0.000000e+00</td>\n",
       "      <td>0.000000e+00</td>\n",
       "      <td>1.000000e+00</td>\n",
       "      <td>0.000000e+00</td>\n",
       "      <td>0.000000e+00</td>\n",
       "      <td>0.000000e+00</td>\n",
       "    </tr>\n",
       "    <tr>\n",
       "      <th>50%</th>\n",
       "      <td>3.440930e+01</td>\n",
       "      <td>2.823745e+01</td>\n",
       "      <td>5.760000e+02</td>\n",
       "      <td>2.000000e+00</td>\n",
       "      <td>6.200000e+01</td>\n",
       "      <td>0.000000e+00</td>\n",
       "      <td>1.000000e+00</td>\n",
       "      <td>0.000000e+00</td>\n",
       "      <td>0.000000e+00</td>\n",
       "      <td>0.000000e+00</td>\n",
       "      <td>...</td>\n",
       "      <td>0.000000e+00</td>\n",
       "      <td>0.000000e+00</td>\n",
       "      <td>0.000000e+00</td>\n",
       "      <td>0.000000e+00</td>\n",
       "      <td>0.000000e+00</td>\n",
       "      <td>0.000000e+00</td>\n",
       "      <td>1.000000e+00</td>\n",
       "      <td>0.000000e+00</td>\n",
       "      <td>0.000000e+00</td>\n",
       "      <td>0.000000e+00</td>\n",
       "    </tr>\n",
       "    <tr>\n",
       "      <th>75%</th>\n",
       "      <td>5.024938e+01</td>\n",
       "      <td>4.227369e+01</td>\n",
       "      <td>8.910000e+02</td>\n",
       "      <td>3.000000e+00</td>\n",
       "      <td>7.600000e+01</td>\n",
       "      <td>1.400000e+01</td>\n",
       "      <td>1.000000e+00</td>\n",
       "      <td>0.000000e+00</td>\n",
       "      <td>0.000000e+00</td>\n",
       "      <td>0.000000e+00</td>\n",
       "      <td>...</td>\n",
       "      <td>0.000000e+00</td>\n",
       "      <td>0.000000e+00</td>\n",
       "      <td>0.000000e+00</td>\n",
       "      <td>0.000000e+00</td>\n",
       "      <td>0.000000e+00</td>\n",
       "      <td>0.000000e+00</td>\n",
       "      <td>1.000000e+00</td>\n",
       "      <td>0.000000e+00</td>\n",
       "      <td>0.000000e+00</td>\n",
       "      <td>0.000000e+00</td>\n",
       "    </tr>\n",
       "    <tr>\n",
       "      <th>max</th>\n",
       "      <td>1.926344e+02</td>\n",
       "      <td>9.000000e+01</td>\n",
       "      <td>1.200000e+03</td>\n",
       "      <td>8.000000e+00</td>\n",
       "      <td>9.900000e+01</td>\n",
       "      <td>4.200000e+01</td>\n",
       "      <td>1.000000e+00</td>\n",
       "      <td>1.000000e+00</td>\n",
       "      <td>1.000000e+00</td>\n",
       "      <td>1.000000e+00</td>\n",
       "      <td>...</td>\n",
       "      <td>1.000000e+00</td>\n",
       "      <td>1.000000e+00</td>\n",
       "      <td>1.000000e+00</td>\n",
       "      <td>1.000000e+00</td>\n",
       "      <td>1.000000e+00</td>\n",
       "      <td>1.000000e+00</td>\n",
       "      <td>1.000000e+00</td>\n",
       "      <td>1.000000e+00</td>\n",
       "      <td>1.000000e+00</td>\n",
       "      <td>1.000000e+00</td>\n",
       "    </tr>\n",
       "  </tbody>\n",
       "</table>\n",
       "<p>8 rows × 27 columns</p>\n",
       "</div>"
      ],
      "text/plain": [
       "       event_distance   event_angle  seconds_elapsed   game_period   \n",
       "count    1.273536e+06  1.273536e+06     1.273536e+06  1.273536e+06  \\\n",
       "mean     3.630366e+01  3.060605e+01     5.875719e+02  2.038210e+00   \n",
       "std      2.220291e+01  2.022701e+01     3.495740e+02  8.544822e-01   \n",
       "min      1.000000e+00  0.000000e+00     0.000000e+00  1.000000e+00   \n",
       "25%      1.868154e+01  1.552411e+01     2.780000e+02  1.000000e+00   \n",
       "50%      3.440930e+01  2.823745e+01     5.760000e+02  2.000000e+00   \n",
       "75%      5.024938e+01  4.227369e+01     8.910000e+02  3.000000e+00   \n",
       "max      1.926344e+02  9.000000e+01     1.200000e+03  8.000000e+00   \n",
       "\n",
       "                  x             y       is_home  score_down_4  score_down_3   \n",
       "count  1.273536e+06  1.273536e+06  1.273536e+06  1.273536e+06  1.273536e+06  \\\n",
       "mean   5.830303e+01 -1.502007e-01  5.123208e-01  2.116469e-02  3.738175e-02   \n",
       "std    2.227445e+01  1.929888e+01  4.998484e-01  1.439332e-01  1.896955e-01   \n",
       "min   -9.900000e+01 -4.300000e+01  0.000000e+00  0.000000e+00  0.000000e+00   \n",
       "25%    4.400000e+01 -1.500000e+01  0.000000e+00  0.000000e+00  0.000000e+00   \n",
       "50%    6.200000e+01  0.000000e+00  1.000000e+00  0.000000e+00  0.000000e+00   \n",
       "75%    7.600000e+01  1.400000e+01  1.000000e+00  0.000000e+00  0.000000e+00   \n",
       "max    9.900000e+01  4.200000e+01  1.000000e+00  1.000000e+00  1.000000e+00   \n",
       "\n",
       "       score_down_2  ...  deflected_shot      tip_shot     slap_shot   \n",
       "count  1.273536e+06  ...    1.273536e+06  1.273536e+06  1.273536e+06  \\\n",
       "mean   9.004221e-02  ...    2.013449e-02  5.798972e-02  1.818472e-01   \n",
       "std    2.862423e-01  ...    1.404603e-01  2.337241e-01  3.857187e-01   \n",
       "min    0.000000e+00  ...    0.000000e+00  0.000000e+00  0.000000e+00   \n",
       "25%    0.000000e+00  ...    0.000000e+00  0.000000e+00  0.000000e+00   \n",
       "50%    0.000000e+00  ...    0.000000e+00  0.000000e+00  0.000000e+00   \n",
       "75%    0.000000e+00  ...    0.000000e+00  0.000000e+00  0.000000e+00   \n",
       "max    1.000000e+00  ...    1.000000e+00  1.000000e+00  1.000000e+00   \n",
       "\n",
       "       backhand_shot     snap_shot     wrap_shot     state_5v5     state_4v4   \n",
       "count   1.273536e+06  1.273536e+06  1.273536e+06  1.273536e+06  1.273536e+06  \\\n",
       "mean    7.987839e-02  1.399662e-01  1.152304e-02  9.654278e-01  2.760267e-02   \n",
       "std     2.711049e-01  3.469521e-01  1.067252e-01  1.826938e-01  1.638316e-01   \n",
       "min     0.000000e+00  0.000000e+00  0.000000e+00  0.000000e+00  0.000000e+00   \n",
       "25%     0.000000e+00  0.000000e+00  0.000000e+00  1.000000e+00  0.000000e+00   \n",
       "50%     0.000000e+00  0.000000e+00  0.000000e+00  1.000000e+00  0.000000e+00   \n",
       "75%     0.000000e+00  0.000000e+00  0.000000e+00  1.000000e+00  0.000000e+00   \n",
       "max     1.000000e+00  1.000000e+00  1.000000e+00  1.000000e+00  1.000000e+00   \n",
       "\n",
       "          state_3v3          goal  \n",
       "count  1.273536e+06  1.273536e+06  \n",
       "mean   6.969571e-03  6.078430e-02  \n",
       "std    8.319256e-02  2.389343e-01  \n",
       "min    0.000000e+00  0.000000e+00  \n",
       "25%    0.000000e+00  0.000000e+00  \n",
       "50%    0.000000e+00  0.000000e+00  \n",
       "75%    0.000000e+00  0.000000e+00  \n",
       "max    1.000000e+00  1.000000e+00  \n",
       "\n",
       "[8 rows x 27 columns]"
      ]
     },
     "execution_count": 13,
     "metadata": {},
     "output_type": "execute_result"
    }
   ],
   "source": [
    "# check for outliers \n",
    "df.describe()"
   ]
  },
  {
   "cell_type": "code",
   "execution_count": 14,
   "metadata": {},
   "outputs": [
    {
     "data": {
      "text/plain": [
       "(1246028, 27)"
      ]
     },
     "execution_count": 14,
     "metadata": {},
     "output_type": "execute_result"
    }
   ],
   "source": [
    "# drop shots that occured from further than the red line\n",
    "df = df[df['x'] >= 0]\n",
    "df.shape"
   ]
  },
  {
   "cell_type": "code",
   "execution_count": 15,
   "metadata": {},
   "outputs": [
    {
     "data": {
      "text/html": [
       "<div>\n",
       "<style scoped>\n",
       "    .dataframe tbody tr th:only-of-type {\n",
       "        vertical-align: middle;\n",
       "    }\n",
       "\n",
       "    .dataframe tbody tr th {\n",
       "        vertical-align: top;\n",
       "    }\n",
       "\n",
       "    .dataframe thead th {\n",
       "        text-align: right;\n",
       "    }\n",
       "</style>\n",
       "<table border=\"1\" class=\"dataframe\">\n",
       "  <thead>\n",
       "    <tr style=\"text-align: right;\">\n",
       "      <th></th>\n",
       "      <th>event_distance</th>\n",
       "      <th>event_angle</th>\n",
       "      <th>seconds_elapsed</th>\n",
       "      <th>game_period</th>\n",
       "      <th>x</th>\n",
       "      <th>y</th>\n",
       "      <th>is_home</th>\n",
       "      <th>score_down_4</th>\n",
       "      <th>score_down_3</th>\n",
       "      <th>score_down_2</th>\n",
       "      <th>...</th>\n",
       "      <th>deflected_shot</th>\n",
       "      <th>tip_shot</th>\n",
       "      <th>slap_shot</th>\n",
       "      <th>backhand_shot</th>\n",
       "      <th>snap_shot</th>\n",
       "      <th>wrap_shot</th>\n",
       "      <th>state_5v5</th>\n",
       "      <th>state_4v4</th>\n",
       "      <th>state_3v3</th>\n",
       "      <th>goal</th>\n",
       "    </tr>\n",
       "  </thead>\n",
       "  <tbody>\n",
       "    <tr>\n",
       "      <th>count</th>\n",
       "      <td>1.246028e+06</td>\n",
       "      <td>1.246028e+06</td>\n",
       "      <td>1.246028e+06</td>\n",
       "      <td>1.246028e+06</td>\n",
       "      <td>1.246028e+06</td>\n",
       "      <td>1.246028e+06</td>\n",
       "      <td>1.246028e+06</td>\n",
       "      <td>1.246028e+06</td>\n",
       "      <td>1.246028e+06</td>\n",
       "      <td>1.246028e+06</td>\n",
       "      <td>...</td>\n",
       "      <td>1.246028e+06</td>\n",
       "      <td>1.246028e+06</td>\n",
       "      <td>1.246028e+06</td>\n",
       "      <td>1.246028e+06</td>\n",
       "      <td>1.246028e+06</td>\n",
       "      <td>1.246028e+06</td>\n",
       "      <td>1.246028e+06</td>\n",
       "      <td>1.246028e+06</td>\n",
       "      <td>1.246028e+06</td>\n",
       "      <td>1.246028e+06</td>\n",
       "    </tr>\n",
       "    <tr>\n",
       "      <th>mean</th>\n",
       "      <td>3.443428e+01</td>\n",
       "      <td>3.078886e+01</td>\n",
       "      <td>5.866330e+02</td>\n",
       "      <td>2.036551e+00</td>\n",
       "      <td>6.024249e+01</td>\n",
       "      <td>-1.296102e-01</td>\n",
       "      <td>5.124387e-01</td>\n",
       "      <td>2.119455e-02</td>\n",
       "      <td>3.745421e-02</td>\n",
       "      <td>9.026282e-02</td>\n",
       "      <td>...</td>\n",
       "      <td>2.020500e-02</td>\n",
       "      <td>5.848344e-02</td>\n",
       "      <td>1.804285e-01</td>\n",
       "      <td>8.051424e-02</td>\n",
       "      <td>1.412866e-01</td>\n",
       "      <td>1.170279e-02</td>\n",
       "      <td>9.650489e-01</td>\n",
       "      <td>2.789263e-02</td>\n",
       "      <td>7.058429e-03</td>\n",
       "      <td>6.095048e-02</td>\n",
       "    </tr>\n",
       "    <tr>\n",
       "      <th>std</th>\n",
       "      <td>1.812320e+01</td>\n",
       "      <td>2.021274e+01</td>\n",
       "      <td>3.486540e+02</td>\n",
       "      <td>8.542607e-01</td>\n",
       "      <td>1.785242e+01</td>\n",
       "      <td>1.919506e+01</td>\n",
       "      <td>4.998455e-01</td>\n",
       "      <td>1.440325e-01</td>\n",
       "      <td>1.898721e-01</td>\n",
       "      <td>2.865580e-01</td>\n",
       "      <td>...</td>\n",
       "      <td>1.407010e-01</td>\n",
       "      <td>2.346554e-01</td>\n",
       "      <td>3.845441e-01</td>\n",
       "      <td>2.720878e-01</td>\n",
       "      <td>3.483170e-01</td>\n",
       "      <td>1.075446e-01</td>\n",
       "      <td>1.836560e-01</td>\n",
       "      <td>1.646653e-01</td>\n",
       "      <td>8.371746e-02</td>\n",
       "      <td>2.392395e-01</td>\n",
       "    </tr>\n",
       "    <tr>\n",
       "      <th>min</th>\n",
       "      <td>1.000000e+00</td>\n",
       "      <td>0.000000e+00</td>\n",
       "      <td>0.000000e+00</td>\n",
       "      <td>1.000000e+00</td>\n",
       "      <td>0.000000e+00</td>\n",
       "      <td>-4.300000e+01</td>\n",
       "      <td>0.000000e+00</td>\n",
       "      <td>0.000000e+00</td>\n",
       "      <td>0.000000e+00</td>\n",
       "      <td>0.000000e+00</td>\n",
       "      <td>...</td>\n",
       "      <td>0.000000e+00</td>\n",
       "      <td>0.000000e+00</td>\n",
       "      <td>0.000000e+00</td>\n",
       "      <td>0.000000e+00</td>\n",
       "      <td>0.000000e+00</td>\n",
       "      <td>0.000000e+00</td>\n",
       "      <td>0.000000e+00</td>\n",
       "      <td>0.000000e+00</td>\n",
       "      <td>0.000000e+00</td>\n",
       "      <td>0.000000e+00</td>\n",
       "    </tr>\n",
       "    <tr>\n",
       "      <th>25%</th>\n",
       "      <td>1.838478e+01</td>\n",
       "      <td>1.575117e+01</td>\n",
       "      <td>2.780000e+02</td>\n",
       "      <td>1.000000e+00</td>\n",
       "      <td>4.600000e+01</td>\n",
       "      <td>-1.500000e+01</td>\n",
       "      <td>0.000000e+00</td>\n",
       "      <td>0.000000e+00</td>\n",
       "      <td>0.000000e+00</td>\n",
       "      <td>0.000000e+00</td>\n",
       "      <td>...</td>\n",
       "      <td>0.000000e+00</td>\n",
       "      <td>0.000000e+00</td>\n",
       "      <td>0.000000e+00</td>\n",
       "      <td>0.000000e+00</td>\n",
       "      <td>0.000000e+00</td>\n",
       "      <td>0.000000e+00</td>\n",
       "      <td>1.000000e+00</td>\n",
       "      <td>0.000000e+00</td>\n",
       "      <td>0.000000e+00</td>\n",
       "      <td>0.000000e+00</td>\n",
       "    </tr>\n",
       "    <tr>\n",
       "      <th>50%</th>\n",
       "      <td>3.373426e+01</td>\n",
       "      <td>2.844293e+01</td>\n",
       "      <td>5.760000e+02</td>\n",
       "      <td>2.000000e+00</td>\n",
       "      <td>6.200000e+01</td>\n",
       "      <td>0.000000e+00</td>\n",
       "      <td>1.000000e+00</td>\n",
       "      <td>0.000000e+00</td>\n",
       "      <td>0.000000e+00</td>\n",
       "      <td>0.000000e+00</td>\n",
       "      <td>...</td>\n",
       "      <td>0.000000e+00</td>\n",
       "      <td>0.000000e+00</td>\n",
       "      <td>0.000000e+00</td>\n",
       "      <td>0.000000e+00</td>\n",
       "      <td>0.000000e+00</td>\n",
       "      <td>0.000000e+00</td>\n",
       "      <td>1.000000e+00</td>\n",
       "      <td>0.000000e+00</td>\n",
       "      <td>0.000000e+00</td>\n",
       "      <td>0.000000e+00</td>\n",
       "    </tr>\n",
       "    <tr>\n",
       "      <th>75%</th>\n",
       "      <td>4.909175e+01</td>\n",
       "      <td>4.251045e+01</td>\n",
       "      <td>8.880000e+02</td>\n",
       "      <td>3.000000e+00</td>\n",
       "      <td>7.600000e+01</td>\n",
       "      <td>1.400000e+01</td>\n",
       "      <td>1.000000e+00</td>\n",
       "      <td>0.000000e+00</td>\n",
       "      <td>0.000000e+00</td>\n",
       "      <td>0.000000e+00</td>\n",
       "      <td>...</td>\n",
       "      <td>0.000000e+00</td>\n",
       "      <td>0.000000e+00</td>\n",
       "      <td>0.000000e+00</td>\n",
       "      <td>0.000000e+00</td>\n",
       "      <td>0.000000e+00</td>\n",
       "      <td>0.000000e+00</td>\n",
       "      <td>1.000000e+00</td>\n",
       "      <td>0.000000e+00</td>\n",
       "      <td>0.000000e+00</td>\n",
       "      <td>0.000000e+00</td>\n",
       "    </tr>\n",
       "    <tr>\n",
       "      <th>max</th>\n",
       "      <td>9.841240e+01</td>\n",
       "      <td>9.000000e+01</td>\n",
       "      <td>1.200000e+03</td>\n",
       "      <td>8.000000e+00</td>\n",
       "      <td>9.900000e+01</td>\n",
       "      <td>4.200000e+01</td>\n",
       "      <td>1.000000e+00</td>\n",
       "      <td>1.000000e+00</td>\n",
       "      <td>1.000000e+00</td>\n",
       "      <td>1.000000e+00</td>\n",
       "      <td>...</td>\n",
       "      <td>1.000000e+00</td>\n",
       "      <td>1.000000e+00</td>\n",
       "      <td>1.000000e+00</td>\n",
       "      <td>1.000000e+00</td>\n",
       "      <td>1.000000e+00</td>\n",
       "      <td>1.000000e+00</td>\n",
       "      <td>1.000000e+00</td>\n",
       "      <td>1.000000e+00</td>\n",
       "      <td>1.000000e+00</td>\n",
       "      <td>1.000000e+00</td>\n",
       "    </tr>\n",
       "  </tbody>\n",
       "</table>\n",
       "<p>8 rows × 27 columns</p>\n",
       "</div>"
      ],
      "text/plain": [
       "       event_distance   event_angle  seconds_elapsed   game_period   \n",
       "count    1.246028e+06  1.246028e+06     1.246028e+06  1.246028e+06  \\\n",
       "mean     3.443428e+01  3.078886e+01     5.866330e+02  2.036551e+00   \n",
       "std      1.812320e+01  2.021274e+01     3.486540e+02  8.542607e-01   \n",
       "min      1.000000e+00  0.000000e+00     0.000000e+00  1.000000e+00   \n",
       "25%      1.838478e+01  1.575117e+01     2.780000e+02  1.000000e+00   \n",
       "50%      3.373426e+01  2.844293e+01     5.760000e+02  2.000000e+00   \n",
       "75%      4.909175e+01  4.251045e+01     8.880000e+02  3.000000e+00   \n",
       "max      9.841240e+01  9.000000e+01     1.200000e+03  8.000000e+00   \n",
       "\n",
       "                  x             y       is_home  score_down_4  score_down_3   \n",
       "count  1.246028e+06  1.246028e+06  1.246028e+06  1.246028e+06  1.246028e+06  \\\n",
       "mean   6.024249e+01 -1.296102e-01  5.124387e-01  2.119455e-02  3.745421e-02   \n",
       "std    1.785242e+01  1.919506e+01  4.998455e-01  1.440325e-01  1.898721e-01   \n",
       "min    0.000000e+00 -4.300000e+01  0.000000e+00  0.000000e+00  0.000000e+00   \n",
       "25%    4.600000e+01 -1.500000e+01  0.000000e+00  0.000000e+00  0.000000e+00   \n",
       "50%    6.200000e+01  0.000000e+00  1.000000e+00  0.000000e+00  0.000000e+00   \n",
       "75%    7.600000e+01  1.400000e+01  1.000000e+00  0.000000e+00  0.000000e+00   \n",
       "max    9.900000e+01  4.200000e+01  1.000000e+00  1.000000e+00  1.000000e+00   \n",
       "\n",
       "       score_down_2  ...  deflected_shot      tip_shot     slap_shot   \n",
       "count  1.246028e+06  ...    1.246028e+06  1.246028e+06  1.246028e+06  \\\n",
       "mean   9.026282e-02  ...    2.020500e-02  5.848344e-02  1.804285e-01   \n",
       "std    2.865580e-01  ...    1.407010e-01  2.346554e-01  3.845441e-01   \n",
       "min    0.000000e+00  ...    0.000000e+00  0.000000e+00  0.000000e+00   \n",
       "25%    0.000000e+00  ...    0.000000e+00  0.000000e+00  0.000000e+00   \n",
       "50%    0.000000e+00  ...    0.000000e+00  0.000000e+00  0.000000e+00   \n",
       "75%    0.000000e+00  ...    0.000000e+00  0.000000e+00  0.000000e+00   \n",
       "max    1.000000e+00  ...    1.000000e+00  1.000000e+00  1.000000e+00   \n",
       "\n",
       "       backhand_shot     snap_shot     wrap_shot     state_5v5     state_4v4   \n",
       "count   1.246028e+06  1.246028e+06  1.246028e+06  1.246028e+06  1.246028e+06  \\\n",
       "mean    8.051424e-02  1.412866e-01  1.170279e-02  9.650489e-01  2.789263e-02   \n",
       "std     2.720878e-01  3.483170e-01  1.075446e-01  1.836560e-01  1.646653e-01   \n",
       "min     0.000000e+00  0.000000e+00  0.000000e+00  0.000000e+00  0.000000e+00   \n",
       "25%     0.000000e+00  0.000000e+00  0.000000e+00  1.000000e+00  0.000000e+00   \n",
       "50%     0.000000e+00  0.000000e+00  0.000000e+00  1.000000e+00  0.000000e+00   \n",
       "75%     0.000000e+00  0.000000e+00  0.000000e+00  1.000000e+00  0.000000e+00   \n",
       "max     1.000000e+00  1.000000e+00  1.000000e+00  1.000000e+00  1.000000e+00   \n",
       "\n",
       "          state_3v3          goal  \n",
       "count  1.246028e+06  1.246028e+06  \n",
       "mean   7.058429e-03  6.095048e-02  \n",
       "std    8.371746e-02  2.392395e-01  \n",
       "min    0.000000e+00  0.000000e+00  \n",
       "25%    0.000000e+00  0.000000e+00  \n",
       "50%    0.000000e+00  0.000000e+00  \n",
       "75%    0.000000e+00  0.000000e+00  \n",
       "max    1.000000e+00  1.000000e+00  \n",
       "\n",
       "[8 rows x 27 columns]"
      ]
     },
     "execution_count": 15,
     "metadata": {},
     "output_type": "execute_result"
    }
   ],
   "source": [
    "# re-check data characteristics\n",
    "df.describe()"
   ]
  },
  {
   "cell_type": "code",
   "execution_count": 16,
   "metadata": {},
   "outputs": [
    {
     "data": {
      "text/plain": [
       "goal\n",
       "0    1170082\n",
       "1      75946\n",
       "Name: count, dtype: int64"
      ]
     },
     "execution_count": 16,
     "metadata": {},
     "output_type": "execute_result"
    }
   ],
   "source": [
    "df['goal'].value_counts()"
   ]
  },
  {
   "attachments": {},
   "cell_type": "markdown",
   "metadata": {},
   "source": [
    "# Visualize Data Characteristics"
   ]
  },
  {
   "cell_type": "code",
   "execution_count": 17,
   "metadata": {},
   "outputs": [
    {
     "data": {
      "text/plain": [
       "<seaborn.axisgrid.FacetGrid at 0x212d46b6800>"
      ]
     },
     "execution_count": 17,
     "metadata": {},
     "output_type": "execute_result"
    },
    {
     "data": {
      "image/png": "[encoded data removed]",
      "text/plain": [
       "<Figure size 500x500 with 1 Axes>"
      ]
     },
     "metadata": {},
     "output_type": "display_data"
    }
   ],
   "source": [
    "# full data shot distribution \n",
    "sns.set_theme(context = 'paper', style = 'darkgrid', palette = 'bright')\n",
    "sns.displot(df, x = 'event_distance', binwidth = 5).set(title = 'Shot Distance Distribution (2007-2022)')"
   ]
  },
  {
   "attachments": {},
   "cell_type": "markdown",
   "metadata": {},
   "source": [
    "# Dataset Preparation"
   ]
  },
  {
   "cell_type": "code",
   "execution_count": 18,
   "metadata": {},
   "outputs": [
    {
     "data": {
      "text/plain": [
       "\" Not used for now. \\n\\n# using column transformer to only scale the non-binary features\\nct = ColumnTransformer([\\n    ('ZeroToOneScaler', MinMaxScaler(), ['event_distance', 'event_angle', 'seconds_elapsed', 'x']),\\n    ('NegOneToOne', MinMaxScaler(feature_range = (-1, 1)), ['y'])\\n    ], remainder = 'passthrough'\\n)\\n\\n# for the non random forest models \\ndf_scaled = ct.fit_transform(df)\\ndf_scaled\\n\\n\""
      ]
     },
     "execution_count": 18,
     "metadata": {},
     "output_type": "execute_result"
    }
   ],
   "source": [
    "''' Not used for now. \n",
    "\n",
    "# using column transformer to only scale the non-binary features\n",
    "ct = ColumnTransformer([\n",
    "    ('ZeroToOneScaler', MinMaxScaler(), ['event_distance', 'event_angle', 'seconds_elapsed', 'x']),\n",
    "    ('NegOneToOne', MinMaxScaler(feature_range = (-1, 1)), ['y'])\n",
    "    ], remainder = 'passthrough'\n",
    ")\n",
    "\n",
    "# for the non random forest models \n",
    "df_scaled = ct.fit_transform(df)\n",
    "df_scaled\n",
    "\n",
    "'''"
   ]
  },
  {
   "cell_type": "code",
   "execution_count": 19,
   "metadata": {},
   "outputs": [],
   "source": [
    "# get x values \n",
    "x = df.drop('goal', axis = 1)\n",
    "# get labels \n",
    "y = df['goal']\n",
    "\n",
    "# split into train/test splits\n",
    "x_train, x_test, y_train, y_test = train_test_split(x, y, test_size = 0.2, random_state = 8, stratify = y)"
   ]
  },
  {
   "cell_type": "code",
   "execution_count": 20,
   "metadata": {},
   "outputs": [
    {
     "name": "stdout",
     "output_type": "stream",
     "text": [
      "x_train shape: (996822, 26)\n",
      "x_test shape: (249206, 26)\n",
      "y_train shape: (996822,)\n",
      "y_test shape: (249206,)\n"
     ]
    }
   ],
   "source": [
    "print(f'x_train shape: {x_train.shape}\\nx_test shape: {x_test.shape}\\ny_train shape: {y_train.shape}\\ny_test shape: {y_test.shape}')"
   ]
  },
  {
   "attachments": {},
   "cell_type": "markdown",
   "metadata": {},
   "source": [
    "**Splits:**  \n",
    "x_train shape: (996822, 26)  \n",
    "x_test shape: (249206, 26)  \n",
    "y_train shape: (996822,)  \n",
    "y_test shape: (249206,)"
   ]
  },
  {
   "attachments": {},
   "cell_type": "markdown",
   "metadata": {},
   "source": [
    "# Logistic Regression"
   ]
  },
  {
   "cell_type": "code",
   "execution_count": 25,
   "metadata": {},
   "outputs": [],
   "source": [
    "# parameter search space \n",
    "c = [x for x in np.logspace(-5, 3, 100)]\n",
    "max_iter = [500, 1000, 2000, 4000]\n",
    "\n",
    "lg_param_grid = [\n",
    "    {'C': c,\n",
    "     'max_iter': max_iter}\n",
    "]"
   ]
  },
  {
   "cell_type": "code",
   "execution_count": 76,
   "metadata": {},
   "outputs": [
    {
     "name": "stdout",
     "output_type": "stream",
     "text": [
      "Fitting 5 folds for each of 50 candidates, totalling 250 fits\n",
      "[CV 1/5] END C=0.0038535285937105314, max_iter=1000; accuracy: (test=0.654) f1: (test=0.202) total time=  34.6s\n",
      "[CV 2/5] END C=0.0038535285937105314, max_iter=1000; accuracy: (test=0.655) f1: (test=0.202) total time=   4.0s\n",
      "[CV 3/5] END C=0.0038535285937105314, max_iter=1000; accuracy: (test=0.653) f1: (test=0.202) total time=  16.9s\n"
     ]
    },
    {
     "name": "stderr",
     "output_type": "stream",
     "text": [
      "c:\\Users\\prodb\\anaconda3\\envs\\XG_ENV\\lib\\site-packages\\sklearn\\linear_model\\_logistic.py:458: ConvergenceWarning: lbfgs failed to converge (status=1):\n",
      "STOP: TOTAL NO. of ITERATIONS REACHED LIMIT.\n",
      "\n",
      "Increase the number of iterations (max_iter) or scale the data as shown in:\n",
      "    https://scikit-learn.org/stable/modules/preprocessing.html\n",
      "Please also refer to the documentation for alternative solver options:\n",
      "    https://scikit-learn.org/stable/modules/linear_model.html#logistic-regression\n",
      "  n_iter_i = _check_optimize_result(\n"
     ]
    },
    {
     "name": "stdout",
     "output_type": "stream",
     "text": [
      "[CV 4/5] END C=0.0038535285937105314, max_iter=1000; accuracy: (test=0.655) f1: (test=0.204) total time=  40.5s\n",
      "[CV 5/5] END C=0.0038535285937105314, max_iter=1000; accuracy: (test=0.655) f1: (test=0.201) total time=   9.0s\n",
      "[CV 1/5] END C=9.326033468832199e-05, max_iter=2000; accuracy: (test=0.652) f1: (test=0.202) total time=  21.3s\n",
      "[CV 2/5] END C=9.326033468832199e-05, max_iter=2000; accuracy: (test=0.655) f1: (test=0.202) total time=  10.5s\n",
      "[CV 3/5] END C=9.326033468832199e-05, max_iter=2000; accuracy: (test=0.653) f1: (test=0.200) total time=   4.6s\n",
      "[CV 4/5] END C=9.326033468832199e-05, max_iter=2000; accuracy: (test=0.656) f1: (test=0.203) total time=   5.4s\n",
      "[CV 5/5] END C=9.326033468832199e-05, max_iter=2000; accuracy: (test=0.654) f1: (test=0.200) total time=   3.8s\n",
      "[CV 1/5] END C=0.014174741629268062, max_iter=1000; accuracy: (test=0.655) f1: (test=0.202) total time=   6.1s\n",
      "[CV 2/5] END C=0.014174741629268062, max_iter=1000; accuracy: (test=0.655) f1: (test=0.202) total time=   5.3s\n",
      "[CV 3/5] END C=0.014174741629268062, max_iter=1000; accuracy: (test=0.649) f1: (test=0.201) total time=  25.4s\n",
      "[CV 4/5] END C=0.014174741629268062, max_iter=1000; accuracy: (test=0.655) f1: (test=0.204) total time=  33.2s\n",
      "[CV 5/5] END C=0.014174741629268062, max_iter=1000; accuracy: (test=0.655) f1: (test=0.201) total time=  20.7s\n",
      "[CV 1/5] END C=830.2175681319752, max_iter=4000; accuracy: (test=0.652) f1: (test=0.202) total time=  32.9s\n",
      "[CV 2/5] END C=830.2175681319752, max_iter=4000; accuracy: (test=0.655) f1: (test=0.202) total time=  18.3s\n",
      "[CV 3/5] END C=830.2175681319752, max_iter=4000; accuracy: (test=0.652) f1: (test=0.202) total time=  27.4s\n",
      "[CV 4/5] END C=830.2175681319752, max_iter=4000; accuracy: (test=0.652) f1: (test=0.203) total time=  54.3s\n",
      "[CV 5/5] END C=830.2175681319752, max_iter=4000; accuracy: (test=0.645) f1: (test=0.200) total time= 1.1min\n",
      "[CV 1/5] END C=0.0012618568830660211, max_iter=1000; accuracy: (test=0.655) f1: (test=0.202) total time=   8.8s\n",
      "[CV 2/5] END C=0.0012618568830660211, max_iter=1000; accuracy: (test=0.655) f1: (test=0.202) total time=   6.4s\n"
     ]
    },
    {
     "name": "stderr",
     "output_type": "stream",
     "text": [
      "c:\\Users\\prodb\\anaconda3\\envs\\XG_ENV\\lib\\site-packages\\sklearn\\linear_model\\_logistic.py:458: ConvergenceWarning: lbfgs failed to converge (status=1):\n",
      "STOP: TOTAL NO. of ITERATIONS REACHED LIMIT.\n",
      "\n",
      "Increase the number of iterations (max_iter) or scale the data as shown in:\n",
      "    https://scikit-learn.org/stable/modules/preprocessing.html\n",
      "Please also refer to the documentation for alternative solver options:\n",
      "    https://scikit-learn.org/stable/modules/linear_model.html#logistic-regression\n",
      "  n_iter_i = _check_optimize_result(\n"
     ]
    },
    {
     "name": "stdout",
     "output_type": "stream",
     "text": [
      "[CV 3/5] END C=0.0012618568830660211, max_iter=1000; accuracy: (test=0.651) f1: (test=0.202) total time=  39.1s\n",
      "[CV 4/5] END C=0.0012618568830660211, max_iter=1000; accuracy: (test=0.656) f1: (test=0.204) total time=  21.9s\n",
      "[CV 5/5] END C=0.0012618568830660211, max_iter=1000; accuracy: (test=0.654) f1: (test=0.201) total time=  19.5s\n",
      "[CV 1/5] END C=0.0002848035868435802, max_iter=2000; accuracy: (test=0.655) f1: (test=0.202) total time=   8.5s\n",
      "[CV 2/5] END C=0.0002848035868435802, max_iter=2000; accuracy: (test=0.654) f1: (test=0.202) total time=   4.0s\n",
      "[CV 3/5] END C=0.0002848035868435802, max_iter=2000; accuracy: (test=0.653) f1: (test=0.201) total time=   4.0s\n",
      "[CV 4/5] END C=0.0002848035868435802, max_iter=2000; accuracy: (test=0.656) f1: (test=0.203) total time=   6.4s\n",
      "[CV 5/5] END C=0.0002848035868435802, max_iter=2000; accuracy: (test=0.639) f1: (test=0.197) total time=  50.7s\n",
      "[CV 1/5] END C=572.236765935022, max_iter=2000; accuracy: (test=0.655) f1: (test=0.202) total time=   8.1s\n",
      "[CV 2/5] END C=572.236765935022, max_iter=2000; accuracy: (test=0.656) f1: (test=0.203) total time=  13.9s\n",
      "[CV 3/5] END C=572.236765935022, max_iter=2000; accuracy: (test=0.653) f1: (test=0.202) total time=  13.5s\n",
      "[CV 4/5] END C=572.236765935022, max_iter=2000; accuracy: (test=0.653) f1: (test=0.203) total time=  50.2s\n",
      "[CV 5/5] END C=572.236765935022, max_iter=2000; accuracy: (test=0.655) f1: (test=0.201) total time=   6.5s\n",
      "[CV 1/5] END C=0.0521400828799969, max_iter=1000; accuracy: (test=0.655) f1: (test=0.202) total time=  13.0s\n",
      "[CV 2/5] END C=0.0521400828799969, max_iter=1000; accuracy: (test=0.655) f1: (test=0.202) total time=   4.8s\n",
      "[CV 3/5] END C=0.0521400828799969, max_iter=1000; accuracy: (test=0.651) f1: (test=0.201) total time=  36.1s\n",
      "[CV 4/5] END C=0.0521400828799969, max_iter=1000; accuracy: (test=0.657) f1: (test=0.204) total time=   5.2s\n",
      "[CV 5/5] END C=0.0521400828799969, max_iter=1000; accuracy: (test=0.654) f1: (test=0.201) total time=  18.9s\n",
      "[CV 1/5] END C=155.56761439304753, max_iter=2000; accuracy: (test=0.647) f1: (test=0.201) total time=  55.6s\n",
      "[CV 2/5] END C=155.56761439304753, max_iter=2000; accuracy: (test=0.655) f1: (test=0.202) total time=   7.4s\n"
     ]
    },
    {
     "name": "stderr",
     "output_type": "stream",
     "text": [
      "c:\\Users\\prodb\\anaconda3\\envs\\XG_ENV\\lib\\site-packages\\sklearn\\linear_model\\_logistic.py:458: ConvergenceWarning: lbfgs failed to converge (status=1):\n",
      "STOP: TOTAL NO. of ITERATIONS REACHED LIMIT.\n",
      "\n",
      "Increase the number of iterations (max_iter) or scale the data as shown in:\n",
      "    https://scikit-learn.org/stable/modules/preprocessing.html\n",
      "Please also refer to the documentation for alternative solver options:\n",
      "    https://scikit-learn.org/stable/modules/linear_model.html#logistic-regression\n",
      "  n_iter_i = _check_optimize_result(\n"
     ]
    },
    {
     "name": "stdout",
     "output_type": "stream",
     "text": [
      "[CV 3/5] END C=155.56761439304753, max_iter=2000; accuracy: (test=0.641) f1: (test=0.199) total time= 1.3min\n",
      "[CV 4/5] END C=155.56761439304753, max_iter=2000; accuracy: (test=0.656) f1: (test=0.204) total time=  28.7s\n",
      "[CV 5/5] END C=155.56761439304753, max_iter=2000; accuracy: (test=0.655) f1: (test=0.201) total time=  19.0s\n",
      "[CV 1/5] END C=0.8497534359086456, max_iter=2000; accuracy: (test=0.647) f1: (test=0.201) total time=  59.1s\n",
      "[CV 2/5] END C=0.8497534359086456, max_iter=2000; accuracy: (test=0.654) f1: (test=0.202) total time=  20.1s\n"
     ]
    },
    {
     "name": "stderr",
     "output_type": "stream",
     "text": [
      "c:\\Users\\prodb\\anaconda3\\envs\\XG_ENV\\lib\\site-packages\\sklearn\\linear_model\\_logistic.py:458: ConvergenceWarning: lbfgs failed to converge (status=1):\n",
      "STOP: TOTAL NO. of ITERATIONS REACHED LIMIT.\n",
      "\n",
      "Increase the number of iterations (max_iter) or scale the data as shown in:\n",
      "    https://scikit-learn.org/stable/modules/preprocessing.html\n",
      "Please also refer to the documentation for alternative solver options:\n",
      "    https://scikit-learn.org/stable/modules/linear_model.html#logistic-regression\n",
      "  n_iter_i = _check_optimize_result(\n"
     ]
    },
    {
     "name": "stdout",
     "output_type": "stream",
     "text": [
      "[CV 3/5] END C=0.8497534359086456, max_iter=2000; accuracy: (test=0.642) f1: (test=0.200) total time= 1.3min\n",
      "[CV 4/5] END C=0.8497534359086456, max_iter=2000; accuracy: (test=0.650) f1: (test=0.203) total time=  50.9s\n",
      "[CV 5/5] END C=0.8497534359086456, max_iter=2000; accuracy: (test=0.648) f1: (test=0.200) total time=  57.8s\n",
      "[CV 1/5] END C=0.0015199110829529348, max_iter=1000; accuracy: (test=0.655) f1: (test=0.202) total time=   4.4s\n",
      "[CV 2/5] END C=0.0015199110829529348, max_iter=1000; accuracy: (test=0.654) f1: (test=0.202) total time=  16.7s\n",
      "[CV 3/5] END C=0.0015199110829529348, max_iter=1000; accuracy: (test=0.653) f1: (test=0.202) total time=  14.3s\n",
      "[CV 4/5] END C=0.0015199110829529348, max_iter=1000; accuracy: (test=0.656) f1: (test=0.203) total time=   3.6s\n",
      "[CV 5/5] END C=0.0015199110829529348, max_iter=1000; accuracy: (test=0.655) f1: (test=0.201) total time=  13.0s\n",
      "[CV 1/5] END C=0.024770763559917114, max_iter=2000; accuracy: (test=0.656) f1: (test=0.202) total time=  19.8s\n",
      "[CV 2/5] END C=0.024770763559917114, max_iter=2000; accuracy: (test=0.654) f1: (test=0.203) total time=  36.0s\n",
      "[CV 3/5] END C=0.024770763559917114, max_iter=2000; accuracy: (test=0.651) f1: (test=0.202) total time=  30.5s\n",
      "[CV 4/5] END C=0.024770763559917114, max_iter=2000; accuracy: (test=0.656) f1: (test=0.203) total time=  16.6s\n",
      "[CV 5/5] END C=0.024770763559917114, max_iter=2000; accuracy: (test=0.654) f1: (test=0.201) total time=  36.3s\n",
      "[CV 1/5] END C=3.7649358067924714, max_iter=2000; accuracy: (test=0.653) f1: (test=0.202) total time=  34.8s\n",
      "[CV 2/5] END C=3.7649358067924714, max_iter=2000; accuracy: (test=0.654) f1: (test=0.202) total time=   3.0s\n",
      "[CV 3/5] END C=3.7649358067924714, max_iter=2000; accuracy: (test=0.652) f1: (test=0.202) total time=  24.0s\n"
     ]
    },
    {
     "name": "stderr",
     "output_type": "stream",
     "text": [
      "c:\\Users\\prodb\\anaconda3\\envs\\XG_ENV\\lib\\site-packages\\sklearn\\linear_model\\_logistic.py:458: ConvergenceWarning: lbfgs failed to converge (status=1):\n",
      "STOP: TOTAL NO. of ITERATIONS REACHED LIMIT.\n",
      "\n",
      "Increase the number of iterations (max_iter) or scale the data as shown in:\n",
      "    https://scikit-learn.org/stable/modules/preprocessing.html\n",
      "Please also refer to the documentation for alternative solver options:\n",
      "    https://scikit-learn.org/stable/modules/linear_model.html#logistic-regression\n",
      "  n_iter_i = _check_optimize_result(\n"
     ]
    },
    {
     "name": "stdout",
     "output_type": "stream",
     "text": [
      "[CV 4/5] END C=3.7649358067924714, max_iter=2000; accuracy: (test=0.646) f1: (test=0.202) total time= 1.3min\n",
      "[CV 5/5] END C=3.7649358067924714, max_iter=2000; accuracy: (test=0.650) f1: (test=0.200) total time=  42.4s\n",
      "[CV 1/5] END C=0.2782559402207126, max_iter=500; accuracy: (test=0.655) f1: (test=0.202) total time=  16.7s\n",
      "[CV 2/5] END C=0.2782559402207126, max_iter=500; accuracy: (test=0.655) f1: (test=0.202) total time=   6.3s\n",
      "[CV 3/5] END C=0.2782559402207126, max_iter=500; accuracy: (test=0.653) f1: (test=0.202) total time=   6.5s\n"
     ]
    },
    {
     "name": "stderr",
     "output_type": "stream",
     "text": [
      "c:\\Users\\prodb\\anaconda3\\envs\\XG_ENV\\lib\\site-packages\\sklearn\\linear_model\\_logistic.py:458: ConvergenceWarning: lbfgs failed to converge (status=1):\n",
      "STOP: TOTAL NO. of ITERATIONS REACHED LIMIT.\n",
      "\n",
      "Increase the number of iterations (max_iter) or scale the data as shown in:\n",
      "    https://scikit-learn.org/stable/modules/preprocessing.html\n",
      "Please also refer to the documentation for alternative solver options:\n",
      "    https://scikit-learn.org/stable/modules/linear_model.html#logistic-regression\n",
      "  n_iter_i = _check_optimize_result(\n"
     ]
    },
    {
     "name": "stdout",
     "output_type": "stream",
     "text": [
      "[CV 4/5] END C=0.2782559402207126, max_iter=500; accuracy: (test=0.656) f1: (test=0.204) total time=  19.5s\n",
      "[CV 5/5] END C=0.2782559402207126, max_iter=500; accuracy: (test=0.655) f1: (test=0.201) total time=  12.9s\n",
      "[CV 1/5] END C=0.0012618568830660211, max_iter=2000; accuracy: (test=0.655) f1: (test=0.202) total time=   8.8s\n",
      "[CV 2/5] END C=0.0012618568830660211, max_iter=2000; accuracy: (test=0.655) f1: (test=0.202) total time=   6.4s\n",
      "[CV 3/5] END C=0.0012618568830660211, max_iter=2000; accuracy: (test=0.649) f1: (test=0.201) total time=  53.8s\n",
      "[CV 4/5] END C=0.0012618568830660211, max_iter=2000; accuracy: (test=0.656) f1: (test=0.204) total time=  22.2s\n",
      "[CV 5/5] END C=0.0012618568830660211, max_iter=2000; accuracy: (test=0.654) f1: (test=0.201) total time=  20.1s\n"
     ]
    },
    {
     "name": "stderr",
     "output_type": "stream",
     "text": [
      "c:\\Users\\prodb\\anaconda3\\envs\\XG_ENV\\lib\\site-packages\\sklearn\\linear_model\\_logistic.py:458: ConvergenceWarning: lbfgs failed to converge (status=1):\n",
      "STOP: TOTAL NO. of ITERATIONS REACHED LIMIT.\n",
      "\n",
      "Increase the number of iterations (max_iter) or scale the data as shown in:\n",
      "    https://scikit-learn.org/stable/modules/preprocessing.html\n",
      "Please also refer to the documentation for alternative solver options:\n",
      "    https://scikit-learn.org/stable/modules/linear_model.html#logistic-regression\n",
      "  n_iter_i = _check_optimize_result(\n"
     ]
    },
    {
     "name": "stdout",
     "output_type": "stream",
     "text": [
      "[CV 1/5] END C=4.534878508128592, max_iter=2000; accuracy: (test=0.645) f1: (test=0.200) total time= 1.3min\n"
     ]
    },
    {
     "name": "stderr",
     "output_type": "stream",
     "text": [
      "c:\\Users\\prodb\\anaconda3\\envs\\XG_ENV\\lib\\site-packages\\sklearn\\linear_model\\_logistic.py:458: ConvergenceWarning: lbfgs failed to converge (status=1):\n",
      "STOP: TOTAL NO. of ITERATIONS REACHED LIMIT.\n",
      "\n",
      "Increase the number of iterations (max_iter) or scale the data as shown in:\n",
      "    https://scikit-learn.org/stable/modules/preprocessing.html\n",
      "Please also refer to the documentation for alternative solver options:\n",
      "    https://scikit-learn.org/stable/modules/linear_model.html#logistic-regression\n",
      "  n_iter_i = _check_optimize_result(\n"
     ]
    },
    {
     "name": "stdout",
     "output_type": "stream",
     "text": [
      "[CV 2/5] END C=4.534878508128592, max_iter=2000; accuracy: (test=0.646) f1: (test=0.201) total time= 1.3min\n",
      "[CV 3/5] END C=4.534878508128592, max_iter=2000; accuracy: (test=0.653) f1: (test=0.202) total time=   5.4s\n",
      "[CV 4/5] END C=4.534878508128592, max_iter=2000; accuracy: (test=0.653) f1: (test=0.203) total time=  34.7s\n",
      "[CV 5/5] END C=4.534878508128592, max_iter=2000; accuracy: (test=0.654) f1: (test=0.201) total time=   2.7s\n",
      "[CV 1/5] END C=3.678379771828634e-05, max_iter=2000; accuracy: (test=0.656) f1: (test=0.202) total time=   3.4s\n",
      "[CV 2/5] END C=3.678379771828634e-05, max_iter=2000; accuracy: (test=0.656) f1: (test=0.201) total time=   3.4s\n",
      "[CV 3/5] END C=3.678379771828634e-05, max_iter=2000; accuracy: (test=0.653) f1: (test=0.200) total time=   2.8s\n",
      "[CV 4/5] END C=3.678379771828634e-05, max_iter=2000; accuracy: (test=0.656) f1: (test=0.201) total time=   3.9s\n",
      "[CV 5/5] END C=3.678379771828634e-05, max_iter=2000; accuracy: (test=0.654) f1: (test=0.199) total time=   2.6s\n",
      "[CV 1/5] END C=2.104904144512022e-05, max_iter=1000; accuracy: (test=0.656) f1: (test=0.202) total time=   4.3s\n",
      "[CV 2/5] END C=2.104904144512022e-05, max_iter=1000; accuracy: (test=0.656) f1: (test=0.201) total time=   2.8s\n",
      "[CV 3/5] END C=2.104904144512022e-05, max_iter=1000; accuracy: (test=0.654) f1: (test=0.200) total time=   3.1s\n",
      "[CV 4/5] END C=2.104904144512022e-05, max_iter=1000; accuracy: (test=0.657) f1: (test=0.201) total time=   3.0s\n",
      "[CV 5/5] END C=2.104904144512022e-05, max_iter=1000; accuracy: (test=0.655) f1: (test=0.199) total time=   3.4s\n",
      "[CV 1/5] END C=0.0026560877829466868, max_iter=2000; accuracy: (test=0.655) f1: (test=0.202) total time=  20.0s\n",
      "[CV 2/5] END C=0.0026560877829466868, max_iter=2000; accuracy: (test=0.655) f1: (test=0.202) total time=   7.3s\n",
      "[CV 3/5] END C=0.0026560877829466868, max_iter=2000; accuracy: (test=0.653) f1: (test=0.202) total time=   9.6s\n",
      "[CV 4/5] END C=0.0026560877829466868, max_iter=2000; accuracy: (test=0.656) f1: (test=0.204) total time=   5.8s\n",
      "[CV 5/5] END C=0.0026560877829466868, max_iter=2000; accuracy: (test=0.654) f1: (test=0.201) total time=  52.6s\n",
      "[CV 1/5] END C=0.13219411484660315, max_iter=4000; accuracy: (test=0.651) f1: (test=0.202) total time=  59.6s\n",
      "[CV 2/5] END C=0.13219411484660315, max_iter=4000; accuracy: (test=0.655) f1: (test=0.202) total time=  21.8s\n",
      "[CV 3/5] END C=0.13219411484660315, max_iter=4000; accuracy: (test=0.653) f1: (test=0.202) total time=   4.8s\n",
      "[CV 4/5] END C=0.13219411484660315, max_iter=4000; accuracy: (test=0.655) f1: (test=0.204) total time=  34.3s\n",
      "[CV 5/5] END C=0.13219411484660315, max_iter=4000; accuracy: (test=0.655) f1: (test=0.201) total time=   5.3s\n"
     ]
    },
    {
     "name": "stderr",
     "output_type": "stream",
     "text": [
      "c:\\Users\\prodb\\anaconda3\\envs\\XG_ENV\\lib\\site-packages\\sklearn\\linear_model\\_logistic.py:458: ConvergenceWarning: lbfgs failed to converge (status=1):\n",
      "STOP: TOTAL NO. of ITERATIONS REACHED LIMIT.\n",
      "\n",
      "Increase the number of iterations (max_iter) or scale the data as shown in:\n",
      "    https://scikit-learn.org/stable/modules/preprocessing.html\n",
      "Please also refer to the documentation for alternative solver options:\n",
      "    https://scikit-learn.org/stable/modules/linear_model.html#logistic-regression\n",
      "  n_iter_i = _check_optimize_result(\n"
     ]
    },
    {
     "name": "stdout",
     "output_type": "stream",
     "text": [
      "[CV 1/5] END C=0.13219411484660315, max_iter=1000; accuracy: (test=0.653) f1: (test=0.203) total time=  39.4s\n",
      "[CV 2/5] END C=0.13219411484660315, max_iter=1000; accuracy: (test=0.655) f1: (test=0.202) total time=  21.3s\n",
      "[CV 3/5] END C=0.13219411484660315, max_iter=1000; accuracy: (test=0.653) f1: (test=0.202) total time=   4.7s\n",
      "[CV 4/5] END C=0.13219411484660315, max_iter=1000; accuracy: (test=0.655) f1: (test=0.204) total time=  33.8s\n",
      "[CV 5/5] END C=0.13219411484660315, max_iter=1000; accuracy: (test=0.655) f1: (test=0.201) total time=   5.2s\n",
      "[CV 1/5] END C=6.428073117284319e-05, max_iter=2000; accuracy: (test=0.655) f1: (test=0.202) total time=   4.7s\n",
      "[CV 2/5] END C=6.428073117284319e-05, max_iter=2000; accuracy: (test=0.655) f1: (test=0.201) total time=   7.3s\n",
      "[CV 3/5] END C=6.428073117284319e-05, max_iter=2000; accuracy: (test=0.653) f1: (test=0.200) total time=   5.8s\n",
      "[CV 4/5] END C=6.428073117284319e-05, max_iter=2000; accuracy: (test=0.655) f1: (test=0.202) total time=   2.9s\n",
      "[CV 5/5] END C=6.428073117284319e-05, max_iter=2000; accuracy: (test=0.654) f1: (test=0.200) total time=   7.0s\n",
      "[CV 1/5] END C=0.0628029144183426, max_iter=4000; accuracy: (test=0.655) f1: (test=0.202) total time=  13.5s\n",
      "[CV 2/5] END C=0.0628029144183426, max_iter=4000; accuracy: (test=0.655) f1: (test=0.202) total time=  17.1s\n",
      "[CV 3/5] END C=0.0628029144183426, max_iter=4000; accuracy: (test=0.650) f1: (test=0.201) total time=  39.4s\n",
      "[CV 4/5] END C=0.0628029144183426, max_iter=4000; accuracy: (test=0.657) f1: (test=0.204) total time=   4.7s\n",
      "[CV 5/5] END C=0.0628029144183426, max_iter=4000; accuracy: (test=0.655) f1: (test=0.201) total time=  16.4s\n",
      "[CV 1/5] END C=6.5793322465756825, max_iter=500; accuracy: (test=0.655) f1: (test=0.202) total time=  15.0s\n"
     ]
    },
    {
     "name": "stderr",
     "output_type": "stream",
     "text": [
      "c:\\Users\\prodb\\anaconda3\\envs\\XG_ENV\\lib\\site-packages\\sklearn\\linear_model\\_logistic.py:458: ConvergenceWarning: lbfgs failed to converge (status=1):\n",
      "STOP: TOTAL NO. of ITERATIONS REACHED LIMIT.\n",
      "\n",
      "Increase the number of iterations (max_iter) or scale the data as shown in:\n",
      "    https://scikit-learn.org/stable/modules/preprocessing.html\n",
      "Please also refer to the documentation for alternative solver options:\n",
      "    https://scikit-learn.org/stable/modules/linear_model.html#logistic-regression\n",
      "  n_iter_i = _check_optimize_result(\n"
     ]
    },
    {
     "name": "stdout",
     "output_type": "stream",
     "text": [
      "[CV 2/5] END C=6.5793322465756825, max_iter=500; accuracy: (test=0.655) f1: (test=0.202) total time=  19.0s\n"
     ]
    },
    {
     "name": "stderr",
     "output_type": "stream",
     "text": [
      "c:\\Users\\prodb\\anaconda3\\envs\\XG_ENV\\lib\\site-packages\\sklearn\\linear_model\\_logistic.py:458: ConvergenceWarning: lbfgs failed to converge (status=1):\n",
      "STOP: TOTAL NO. of ITERATIONS REACHED LIMIT.\n",
      "\n",
      "Increase the number of iterations (max_iter) or scale the data as shown in:\n",
      "    https://scikit-learn.org/stable/modules/preprocessing.html\n",
      "Please also refer to the documentation for alternative solver options:\n",
      "    https://scikit-learn.org/stable/modules/linear_model.html#logistic-regression\n",
      "  n_iter_i = _check_optimize_result(\n"
     ]
    },
    {
     "name": "stdout",
     "output_type": "stream",
     "text": [
      "[CV 3/5] END C=6.5793322465756825, max_iter=500; accuracy: (test=0.653) f1: (test=0.202) total time=  19.2s\n"
     ]
    },
    {
     "name": "stderr",
     "output_type": "stream",
     "text": [
      "c:\\Users\\prodb\\anaconda3\\envs\\XG_ENV\\lib\\site-packages\\sklearn\\linear_model\\_logistic.py:458: ConvergenceWarning: lbfgs failed to converge (status=1):\n",
      "STOP: TOTAL NO. of ITERATIONS REACHED LIMIT.\n",
      "\n",
      "Increase the number of iterations (max_iter) or scale the data as shown in:\n",
      "    https://scikit-learn.org/stable/modules/preprocessing.html\n",
      "Please also refer to the documentation for alternative solver options:\n",
      "    https://scikit-learn.org/stable/modules/linear_model.html#logistic-regression\n",
      "  n_iter_i = _check_optimize_result(\n"
     ]
    },
    {
     "name": "stdout",
     "output_type": "stream",
     "text": [
      "[CV 4/5] END C=6.5793322465756825, max_iter=500; accuracy: (test=0.656) f1: (test=0.204) total time=  19.6s\n",
      "[CV 5/5] END C=6.5793322465756825, max_iter=500; accuracy: (test=0.655) f1: (test=0.201) total time=  16.6s\n",
      "[CV 1/5] END C=16.68100537200059, max_iter=4000; accuracy: (test=0.655) f1: (test=0.202) total time=  23.2s\n",
      "[CV 2/5] END C=16.68100537200059, max_iter=4000; accuracy: (test=0.653) f1: (test=0.202) total time=  28.1s\n",
      "[CV 3/5] END C=16.68100537200059, max_iter=4000; accuracy: (test=0.653) f1: (test=0.202) total time=  18.1s\n",
      "[CV 4/5] END C=16.68100537200059, max_iter=4000; accuracy: (test=0.656) f1: (test=0.204) total time=  34.1s\n",
      "[CV 5/5] END C=16.68100537200059, max_iter=4000; accuracy: (test=0.655) f1: (test=0.201) total time=   7.6s\n"
     ]
    },
    {
     "name": "stderr",
     "output_type": "stream",
     "text": [
      "c:\\Users\\prodb\\anaconda3\\envs\\XG_ENV\\lib\\site-packages\\sklearn\\linear_model\\_logistic.py:458: ConvergenceWarning: lbfgs failed to converge (status=1):\n",
      "STOP: TOTAL NO. of ITERATIONS REACHED LIMIT.\n",
      "\n",
      "Increase the number of iterations (max_iter) or scale the data as shown in:\n",
      "    https://scikit-learn.org/stable/modules/preprocessing.html\n",
      "Please also refer to the documentation for alternative solver options:\n",
      "    https://scikit-learn.org/stable/modules/linear_model.html#logistic-regression\n",
      "  n_iter_i = _check_optimize_result(\n"
     ]
    },
    {
     "name": "stdout",
     "output_type": "stream",
     "text": [
      "[CV 1/5] END C=1.2328467394420684, max_iter=500; accuracy: (test=0.654) f1: (test=0.202) total time=  19.6s\n"
     ]
    },
    {
     "name": "stderr",
     "output_type": "stream",
     "text": [
      "c:\\Users\\prodb\\anaconda3\\envs\\XG_ENV\\lib\\site-packages\\sklearn\\linear_model\\_logistic.py:458: ConvergenceWarning: lbfgs failed to converge (status=1):\n",
      "STOP: TOTAL NO. of ITERATIONS REACHED LIMIT.\n",
      "\n",
      "Increase the number of iterations (max_iter) or scale the data as shown in:\n",
      "    https://scikit-learn.org/stable/modules/preprocessing.html\n",
      "Please also refer to the documentation for alternative solver options:\n",
      "    https://scikit-learn.org/stable/modules/linear_model.html#logistic-regression\n",
      "  n_iter_i = _check_optimize_result(\n"
     ]
    },
    {
     "name": "stdout",
     "output_type": "stream",
     "text": [
      "[CV 2/5] END C=1.2328467394420684, max_iter=500; accuracy: (test=0.655) f1: (test=0.202) total time=  19.0s\n"
     ]
    },
    {
     "name": "stderr",
     "output_type": "stream",
     "text": [
      "c:\\Users\\prodb\\anaconda3\\envs\\XG_ENV\\lib\\site-packages\\sklearn\\linear_model\\_logistic.py:458: ConvergenceWarning: lbfgs failed to converge (status=1):\n",
      "STOP: TOTAL NO. of ITERATIONS REACHED LIMIT.\n",
      "\n",
      "Increase the number of iterations (max_iter) or scale the data as shown in:\n",
      "    https://scikit-learn.org/stable/modules/preprocessing.html\n",
      "Please also refer to the documentation for alternative solver options:\n",
      "    https://scikit-learn.org/stable/modules/linear_model.html#logistic-regression\n",
      "  n_iter_i = _check_optimize_result(\n"
     ]
    },
    {
     "name": "stdout",
     "output_type": "stream",
     "text": [
      "[CV 3/5] END C=1.2328467394420684, max_iter=500; accuracy: (test=0.653) f1: (test=0.202) total time=  19.1s\n"
     ]
    },
    {
     "name": "stderr",
     "output_type": "stream",
     "text": [
      "c:\\Users\\prodb\\anaconda3\\envs\\XG_ENV\\lib\\site-packages\\sklearn\\linear_model\\_logistic.py:458: ConvergenceWarning: lbfgs failed to converge (status=1):\n",
      "STOP: TOTAL NO. of ITERATIONS REACHED LIMIT.\n",
      "\n",
      "Increase the number of iterations (max_iter) or scale the data as shown in:\n",
      "    https://scikit-learn.org/stable/modules/preprocessing.html\n",
      "Please also refer to the documentation for alternative solver options:\n",
      "    https://scikit-learn.org/stable/modules/linear_model.html#logistic-regression\n",
      "  n_iter_i = _check_optimize_result(\n"
     ]
    },
    {
     "name": "stdout",
     "output_type": "stream",
     "text": [
      "[CV 4/5] END C=1.2328467394420684, max_iter=500; accuracy: (test=0.656) f1: (test=0.203) total time=  19.1s\n",
      "[CV 5/5] END C=1.2328467394420684, max_iter=500; accuracy: (test=0.655) f1: (test=0.201) total time=   6.4s\n",
      "[CV 1/5] END C=1.0235310218990268, max_iter=4000; accuracy: (test=0.655) f1: (test=0.202) total time=  20.9s\n",
      "[CV 2/5] END C=1.0235310218990268, max_iter=4000; accuracy: (test=0.655) f1: (test=0.202) total time=  15.8s\n",
      "[CV 3/5] END C=1.0235310218990268, max_iter=4000; accuracy: (test=0.653) f1: (test=0.202) total time=  17.6s\n",
      "[CV 4/5] END C=1.0235310218990268, max_iter=4000; accuracy: (test=0.655) f1: (test=0.203) total time=  25.2s\n",
      "[CV 5/5] END C=1.0235310218990268, max_iter=4000; accuracy: (test=0.645) f1: (test=0.199) total time= 1.2min\n",
      "[CV 1/5] END C=35.111917342151344, max_iter=2000; accuracy: (test=0.654) f1: (test=0.202) total time=  33.6s\n",
      "[CV 2/5] END C=35.111917342151344, max_iter=2000; accuracy: (test=0.655) f1: (test=0.202) total time=   5.6s\n",
      "[CV 3/5] END C=35.111917342151344, max_iter=2000; accuracy: (test=0.653) f1: (test=0.202) total time=   4.1s\n",
      "[CV 4/5] END C=35.111917342151344, max_iter=2000; accuracy: (test=0.648) f1: (test=0.202) total time= 1.2min\n"
     ]
    },
    {
     "name": "stderr",
     "output_type": "stream",
     "text": [
      "c:\\Users\\prodb\\anaconda3\\envs\\XG_ENV\\lib\\site-packages\\sklearn\\linear_model\\_logistic.py:458: ConvergenceWarning: lbfgs failed to converge (status=1):\n",
      "STOP: TOTAL NO. of ITERATIONS REACHED LIMIT.\n",
      "\n",
      "Increase the number of iterations (max_iter) or scale the data as shown in:\n",
      "    https://scikit-learn.org/stable/modules/preprocessing.html\n",
      "Please also refer to the documentation for alternative solver options:\n",
      "    https://scikit-learn.org/stable/modules/linear_model.html#logistic-regression\n",
      "  n_iter_i = _check_optimize_result(\n"
     ]
    },
    {
     "name": "stdout",
     "output_type": "stream",
     "text": [
      "[CV 5/5] END C=35.111917342151344, max_iter=2000; accuracy: (test=0.645) f1: (test=0.199) total time= 1.3min\n",
      "[CV 1/5] END C=7.742636826811278e-05, max_iter=500; accuracy: (test=0.655) f1: (test=0.202) total time=   6.2s\n",
      "[CV 2/5] END C=7.742636826811278e-05, max_iter=500; accuracy: (test=0.655) f1: (test=0.201) total time=   4.2s\n"
     ]
    },
    {
     "name": "stderr",
     "output_type": "stream",
     "text": [
      "c:\\Users\\prodb\\anaconda3\\envs\\XG_ENV\\lib\\site-packages\\sklearn\\linear_model\\_logistic.py:458: ConvergenceWarning: lbfgs failed to converge (status=1):\n",
      "STOP: TOTAL NO. of ITERATIONS REACHED LIMIT.\n",
      "\n",
      "Increase the number of iterations (max_iter) or scale the data as shown in:\n",
      "    https://scikit-learn.org/stable/modules/preprocessing.html\n",
      "Please also refer to the documentation for alternative solver options:\n",
      "    https://scikit-learn.org/stable/modules/linear_model.html#logistic-regression\n",
      "  n_iter_i = _check_optimize_result(\n"
     ]
    },
    {
     "name": "stdout",
     "output_type": "stream",
     "text": [
      "[CV 3/5] END C=7.742636826811278e-05, max_iter=500; accuracy: (test=0.645) f1: (test=0.199) total time=  18.9s\n",
      "[CV 4/5] END C=7.742636826811278e-05, max_iter=500; accuracy: (test=0.655) f1: (test=0.202) total time=   4.3s\n",
      "[CV 5/5] END C=7.742636826811278e-05, max_iter=500; accuracy: (test=0.654) f1: (test=0.200) total time=   5.4s\n",
      "[CV 1/5] END C=0.13219411484660315, max_iter=2000; accuracy: (test=0.651) f1: (test=0.202) total time=  58.2s\n",
      "[CV 2/5] END C=0.13219411484660315, max_iter=2000; accuracy: (test=0.655) f1: (test=0.202) total time=  21.1s\n",
      "[CV 3/5] END C=0.13219411484660315, max_iter=2000; accuracy: (test=0.653) f1: (test=0.202) total time=   4.7s\n",
      "[CV 4/5] END C=0.13219411484660315, max_iter=2000; accuracy: (test=0.655) f1: (test=0.204) total time=  33.8s\n",
      "[CV 5/5] END C=0.13219411484660315, max_iter=2000; accuracy: (test=0.655) f1: (test=0.201) total time=   5.2s\n",
      "[CV 1/5] END C=689.261210434971, max_iter=1000; accuracy: (test=0.655) f1: (test=0.202) total time=  17.9s\n",
      "[CV 2/5] END C=689.261210434971, max_iter=1000; accuracy: (test=0.655) f1: (test=0.202) total time=  14.3s\n"
     ]
    },
    {
     "name": "stderr",
     "output_type": "stream",
     "text": [
      "c:\\Users\\prodb\\anaconda3\\envs\\XG_ENV\\lib\\site-packages\\sklearn\\linear_model\\_logistic.py:458: ConvergenceWarning: lbfgs failed to converge (status=1):\n",
      "STOP: TOTAL NO. of ITERATIONS REACHED LIMIT.\n",
      "\n",
      "Increase the number of iterations (max_iter) or scale the data as shown in:\n",
      "    https://scikit-learn.org/stable/modules/preprocessing.html\n",
      "Please also refer to the documentation for alternative solver options:\n",
      "    https://scikit-learn.org/stable/modules/linear_model.html#logistic-regression\n",
      "  n_iter_i = _check_optimize_result(\n"
     ]
    },
    {
     "name": "stdout",
     "output_type": "stream",
     "text": [
      "[CV 3/5] END C=689.261210434971, max_iter=1000; accuracy: (test=0.650) f1: (test=0.201) total time=  38.8s\n"
     ]
    },
    {
     "name": "stderr",
     "output_type": "stream",
     "text": [
      "c:\\Users\\prodb\\anaconda3\\envs\\XG_ENV\\lib\\site-packages\\sklearn\\linear_model\\_logistic.py:458: ConvergenceWarning: lbfgs failed to converge (status=1):\n",
      "STOP: TOTAL NO. of ITERATIONS REACHED LIMIT.\n",
      "\n",
      "Increase the number of iterations (max_iter) or scale the data as shown in:\n",
      "    https://scikit-learn.org/stable/modules/preprocessing.html\n",
      "Please also refer to the documentation for alternative solver options:\n",
      "    https://scikit-learn.org/stable/modules/linear_model.html#logistic-regression\n",
      "  n_iter_i = _check_optimize_result(\n"
     ]
    },
    {
     "name": "stdout",
     "output_type": "stream",
     "text": [
      "[CV 4/5] END C=689.261210434971, max_iter=1000; accuracy: (test=0.655) f1: (test=0.204) total time=  38.6s\n",
      "[CV 5/5] END C=689.261210434971, max_iter=1000; accuracy: (test=0.655) f1: (test=0.201) total time=  16.5s\n",
      "[CV 1/5] END C=0.0031992671377973846, max_iter=2000; accuracy: (test=0.655) f1: (test=0.202) total time=   5.3s\n",
      "[CV 2/5] END C=0.0031992671377973846, max_iter=2000; accuracy: (test=0.655) f1: (test=0.202) total time=   4.5s\n",
      "[CV 3/5] END C=0.0031992671377973846, max_iter=2000; accuracy: (test=0.653) f1: (test=0.202) total time=   4.5s\n",
      "[CV 4/5] END C=0.0031992671377973846, max_iter=2000; accuracy: (test=0.656) f1: (test=0.204) total time=  17.8s\n",
      "[CV 5/5] END C=0.0031992671377973846, max_iter=2000; accuracy: (test=0.653) f1: (test=0.201) total time=  30.3s\n",
      "[CV 1/5] END C=61.35907273413176, max_iter=4000; accuracy: (test=0.655) f1: (test=0.202) total time=  18.2s\n",
      "[CV 2/5] END C=61.35907273413176, max_iter=4000; accuracy: (test=0.651) f1: (test=0.202) total time=  54.6s\n",
      "[CV 3/5] END C=61.35907273413176, max_iter=4000; accuracy: (test=0.652) f1: (test=0.202) total time=  24.5s\n",
      "[CV 4/5] END C=61.35907273413176, max_iter=4000; accuracy: (test=0.656) f1: (test=0.204) total time=  24.6s\n",
      "[CV 5/5] END C=61.35907273413176, max_iter=4000; accuracy: (test=0.653) f1: (test=0.201) total time=  24.3s\n",
      "[CV 1/5] END C=0.15922827933410938, max_iter=4000; accuracy: (test=0.653) f1: (test=0.202) total time=  40.7s\n",
      "[CV 2/5] END C=0.15922827933410938, max_iter=4000; accuracy: (test=0.655) f1: (test=0.202) total time=   5.1s\n",
      "[CV 3/5] END C=0.15922827933410938, max_iter=4000; accuracy: (test=0.652) f1: (test=0.202) total time=  23.8s\n",
      "[CV 4/5] END C=0.15922827933410938, max_iter=4000; accuracy: (test=0.655) f1: (test=0.204) total time=  25.8s\n",
      "[CV 5/5] END C=0.15922827933410938, max_iter=4000; accuracy: (test=0.655) f1: (test=0.201) total time=   6.4s\n"
     ]
    },
    {
     "name": "stderr",
     "output_type": "stream",
     "text": [
      "c:\\Users\\prodb\\anaconda3\\envs\\XG_ENV\\lib\\site-packages\\sklearn\\linear_model\\_logistic.py:458: ConvergenceWarning: lbfgs failed to converge (status=1):\n",
      "STOP: TOTAL NO. of ITERATIONS REACHED LIMIT.\n",
      "\n",
      "Increase the number of iterations (max_iter) or scale the data as shown in:\n",
      "    https://scikit-learn.org/stable/modules/preprocessing.html\n",
      "Please also refer to the documentation for alternative solver options:\n",
      "    https://scikit-learn.org/stable/modules/linear_model.html#logistic-regression\n",
      "  n_iter_i = _check_optimize_result(\n"
     ]
    },
    {
     "name": "stdout",
     "output_type": "stream",
     "text": [
      "[CV 1/5] END C=0.011768119524349991, max_iter=500; accuracy: (test=0.654) f1: (test=0.202) total time=  19.6s\n",
      "[CV 2/5] END C=0.011768119524349991, max_iter=500; accuracy: (test=0.655) f1: (test=0.202) total time=   6.2s\n",
      "[CV 3/5] END C=0.011768119524349991, max_iter=500; accuracy: (test=0.653) f1: (test=0.202) total time=   5.1s\n"
     ]
    },
    {
     "name": "stderr",
     "output_type": "stream",
     "text": [
      "c:\\Users\\prodb\\anaconda3\\envs\\XG_ENV\\lib\\site-packages\\sklearn\\linear_model\\_logistic.py:458: ConvergenceWarning: lbfgs failed to converge (status=1):\n",
      "STOP: TOTAL NO. of ITERATIONS REACHED LIMIT.\n",
      "\n",
      "Increase the number of iterations (max_iter) or scale the data as shown in:\n",
      "    https://scikit-learn.org/stable/modules/preprocessing.html\n",
      "Please also refer to the documentation for alternative solver options:\n",
      "    https://scikit-learn.org/stable/modules/linear_model.html#logistic-regression\n",
      "  n_iter_i = _check_optimize_result(\n"
     ]
    },
    {
     "name": "stdout",
     "output_type": "stream",
     "text": [
      "[CV 4/5] END C=0.011768119524349991, max_iter=500; accuracy: (test=0.656) f1: (test=0.203) total time=  20.6s\n",
      "[CV 5/5] END C=0.011768119524349991, max_iter=500; accuracy: (test=0.655) f1: (test=0.201) total time=  19.7s\n",
      "[CV 1/5] END C=0.011768119524349991, max_iter=2000; accuracy: (test=0.652) f1: (test=0.203) total time=  39.1s\n",
      "[CV 2/5] END C=0.011768119524349991, max_iter=2000; accuracy: (test=0.655) f1: (test=0.202) total time=   6.2s\n",
      "[CV 3/5] END C=0.011768119524349991, max_iter=2000; accuracy: (test=0.653) f1: (test=0.202) total time=   5.0s\n",
      "[CV 4/5] END C=0.011768119524349991, max_iter=2000; accuracy: (test=0.656) f1: (test=0.204) total time=  22.3s\n",
      "[CV 5/5] END C=0.011768119524349991, max_iter=2000; accuracy: (test=0.655) f1: (test=0.201) total time=  19.5s\n",
      "[CV 1/5] END C=0.00011233240329780277, max_iter=500; accuracy: (test=0.655) f1: (test=0.202) total time=   8.0s\n",
      "[CV 2/5] END C=0.00011233240329780277, max_iter=500; accuracy: (test=0.655) f1: (test=0.202) total time=   7.7s\n",
      "[CV 3/5] END C=0.00011233240329780277, max_iter=500; accuracy: (test=0.652) f1: (test=0.201) total time=   4.1s\n",
      "[CV 4/5] END C=0.00011233240329780277, max_iter=500; accuracy: (test=0.655) f1: (test=0.202) total time=   3.9s\n",
      "[CV 5/5] END C=0.00011233240329780277, max_iter=500; accuracy: (test=0.654) f1: (test=0.200) total time=   6.3s\n",
      "[CV 1/5] END C=1.4508287784959402e-05, max_iter=1000; accuracy: (test=0.657) f1: (test=0.201) total time=   4.0s\n",
      "[CV 2/5] END C=1.4508287784959402e-05, max_iter=1000; accuracy: (test=0.656) f1: (test=0.200) total time=   5.3s\n",
      "[CV 3/5] END C=1.4508287784959402e-05, max_iter=1000; accuracy: (test=0.654) f1: (test=0.200) total time=   4.1s\n",
      "[CV 4/5] END C=1.4508287784959402e-05, max_iter=1000; accuracy: (test=0.657) f1: (test=0.201) total time=   3.5s\n",
      "[CV 5/5] END C=1.4508287784959402e-05, max_iter=1000; accuracy: (test=0.655) f1: (test=0.199) total time=   3.1s\n",
      "[CV 1/5] END C=6.428073117284319e-05, max_iter=500; accuracy: (test=0.655) f1: (test=0.202) total time=   5.2s\n",
      "[CV 2/5] END C=6.428073117284319e-05, max_iter=500; accuracy: (test=0.655) f1: (test=0.201) total time=   7.8s\n",
      "[CV 3/5] END C=6.428073117284319e-05, max_iter=500; accuracy: (test=0.653) f1: (test=0.200) total time=   6.2s\n",
      "[CV 4/5] END C=6.428073117284319e-05, max_iter=500; accuracy: (test=0.655) f1: (test=0.202) total time=   3.1s\n",
      "[CV 5/5] END C=6.428073117284319e-05, max_iter=500; accuracy: (test=0.654) f1: (test=0.200) total time=   7.4s\n"
     ]
    },
    {
     "name": "stderr",
     "output_type": "stream",
     "text": [
      "c:\\Users\\prodb\\anaconda3\\envs\\XG_ENV\\lib\\site-packages\\sklearn\\linear_model\\_logistic.py:458: ConvergenceWarning: lbfgs failed to converge (status=1):\n",
      "STOP: TOTAL NO. of ITERATIONS REACHED LIMIT.\n",
      "\n",
      "Increase the number of iterations (max_iter) or scale the data as shown in:\n",
      "    https://scikit-learn.org/stable/modules/preprocessing.html\n",
      "Please also refer to the documentation for alternative solver options:\n",
      "    https://scikit-learn.org/stable/modules/linear_model.html#logistic-regression\n",
      "  n_iter_i = _check_optimize_result(\n"
     ]
    },
    {
     "name": "stdout",
     "output_type": "stream",
     "text": [
      "[CV 1/5] END C=2.5950242113997373, max_iter=1000; accuracy: (test=0.654) f1: (test=0.202) total time=  39.0s\n",
      "[CV 2/5] END C=2.5950242113997373, max_iter=1000; accuracy: (test=0.656) f1: (test=0.203) total time=   8.9s\n",
      "[CV 3/5] END C=2.5950242113997373, max_iter=1000; accuracy: (test=0.650) f1: (test=0.201) total time=  33.7s\n"
     ]
    },
    {
     "name": "stderr",
     "output_type": "stream",
     "text": [
      "c:\\Users\\prodb\\anaconda3\\envs\\XG_ENV\\lib\\site-packages\\sklearn\\linear_model\\_logistic.py:458: ConvergenceWarning: lbfgs failed to converge (status=1):\n",
      "STOP: TOTAL NO. of ITERATIONS REACHED LIMIT.\n",
      "\n",
      "Increase the number of iterations (max_iter) or scale the data as shown in:\n",
      "    https://scikit-learn.org/stable/modules/preprocessing.html\n",
      "Please also refer to the documentation for alternative solver options:\n",
      "    https://scikit-learn.org/stable/modules/linear_model.html#logistic-regression\n",
      "  n_iter_i = _check_optimize_result(\n"
     ]
    },
    {
     "name": "stdout",
     "output_type": "stream",
     "text": [
      "[CV 4/5] END C=2.5950242113997373, max_iter=1000; accuracy: (test=0.654) f1: (test=0.204) total time=  38.3s\n"
     ]
    },
    {
     "name": "stderr",
     "output_type": "stream",
     "text": [
      "c:\\Users\\prodb\\anaconda3\\envs\\XG_ENV\\lib\\site-packages\\sklearn\\linear_model\\_logistic.py:458: ConvergenceWarning: lbfgs failed to converge (status=1):\n",
      "STOP: TOTAL NO. of ITERATIONS REACHED LIMIT.\n",
      "\n",
      "Increase the number of iterations (max_iter) or scale the data as shown in:\n",
      "    https://scikit-learn.org/stable/modules/preprocessing.html\n",
      "Please also refer to the documentation for alternative solver options:\n",
      "    https://scikit-learn.org/stable/modules/linear_model.html#logistic-regression\n",
      "  n_iter_i = _check_optimize_result(\n"
     ]
    },
    {
     "name": "stdout",
     "output_type": "stream",
     "text": [
      "[CV 5/5] END C=2.5950242113997373, max_iter=1000; accuracy: (test=0.652) f1: (test=0.201) total time=  38.7s\n",
      "[CV 1/5] END C=1.2328467394420684, max_iter=4000; accuracy: (test=0.645) f1: (test=0.201) total time= 1.2min\n",
      "[CV 2/5] END C=1.2328467394420684, max_iter=4000; accuracy: (test=0.654) f1: (test=0.202) total time=  24.4s\n",
      "[CV 3/5] END C=1.2328467394420684, max_iter=4000; accuracy: (test=0.642) f1: (test=0.200) total time= 1.2min\n",
      "[CV 4/5] END C=1.2328467394420684, max_iter=4000; accuracy: (test=0.655) f1: (test=0.204) total time=  27.0s\n",
      "[CV 5/5] END C=1.2328467394420684, max_iter=4000; accuracy: (test=0.655) f1: (test=0.201) total time=   6.5s\n"
     ]
    },
    {
     "name": "stderr",
     "output_type": "stream",
     "text": [
      "c:\\Users\\prodb\\anaconda3\\envs\\XG_ENV\\lib\\site-packages\\sklearn\\linear_model\\_logistic.py:458: ConvergenceWarning: lbfgs failed to converge (status=1):\n",
      "STOP: TOTAL NO. of ITERATIONS REACHED LIMIT.\n",
      "\n",
      "Increase the number of iterations (max_iter) or scale the data as shown in:\n",
      "    https://scikit-learn.org/stable/modules/preprocessing.html\n",
      "Please also refer to the documentation for alternative solver options:\n",
      "    https://scikit-learn.org/stable/modules/linear_model.html#logistic-regression\n",
      "  n_iter_i = _check_optimize_result(\n"
     ]
    },
    {
     "name": "stdout",
     "output_type": "stream",
     "text": [
      "[CV 1/5] END C=0.001047615752789665, max_iter=500; accuracy: (test=0.655) f1: (test=0.202) total time=  19.3s\n",
      "[CV 2/5] END C=0.001047615752789665, max_iter=500; accuracy: (test=0.655) f1: (test=0.202) total time=   6.2s\n"
     ]
    },
    {
     "name": "stderr",
     "output_type": "stream",
     "text": [
      "c:\\Users\\prodb\\anaconda3\\envs\\XG_ENV\\lib\\site-packages\\sklearn\\linear_model\\_logistic.py:458: ConvergenceWarning: lbfgs failed to converge (status=1):\n",
      "STOP: TOTAL NO. of ITERATIONS REACHED LIMIT.\n",
      "\n",
      "Increase the number of iterations (max_iter) or scale the data as shown in:\n",
      "    https://scikit-learn.org/stable/modules/preprocessing.html\n",
      "Please also refer to the documentation for alternative solver options:\n",
      "    https://scikit-learn.org/stable/modules/linear_model.html#logistic-regression\n",
      "  n_iter_i = _check_optimize_result(\n"
     ]
    },
    {
     "name": "stdout",
     "output_type": "stream",
     "text": [
      "[CV 3/5] END C=0.001047615752789665, max_iter=500; accuracy: (test=0.652) f1: (test=0.202) total time=  19.7s\n",
      "[CV 4/5] END C=0.001047615752789665, max_iter=500; accuracy: (test=0.657) f1: (test=0.204) total time=   6.0s\n",
      "[CV 5/5] END C=0.001047615752789665, max_iter=500; accuracy: (test=0.655) f1: (test=0.201) total time=   6.5s\n",
      "[CV 1/5] END C=0.0002848035868435802, max_iter=4000; accuracy: (test=0.655) f1: (test=0.202) total time=   8.5s\n",
      "[CV 2/5] END C=0.0002848035868435802, max_iter=4000; accuracy: (test=0.654) f1: (test=0.202) total time=   3.9s\n",
      "[CV 3/5] END C=0.0002848035868435802, max_iter=4000; accuracy: (test=0.653) f1: (test=0.201) total time=   3.9s\n",
      "[CV 4/5] END C=0.0002848035868435802, max_iter=4000; accuracy: (test=0.656) f1: (test=0.203) total time=   6.4s\n",
      "[CV 5/5] END C=0.0002848035868435802, max_iter=4000; accuracy: (test=0.639) f1: (test=0.197) total time=  51.4s\n",
      "[CV 1/5] END C=9.326033468832199e-05, max_iter=4000; accuracy: (test=0.652) f1: (test=0.202) total time=  21.2s\n",
      "[CV 2/5] END C=9.326033468832199e-05, max_iter=4000; accuracy: (test=0.655) f1: (test=0.202) total time=  10.3s\n",
      "[CV 3/5] END C=9.326033468832199e-05, max_iter=4000; accuracy: (test=0.653) f1: (test=0.200) total time=   4.5s\n",
      "[CV 4/5] END C=9.326033468832199e-05, max_iter=4000; accuracy: (test=0.656) f1: (test=0.203) total time=   5.3s\n",
      "[CV 5/5] END C=9.326033468832199e-05, max_iter=4000; accuracy: (test=0.654) f1: (test=0.200) total time=   3.7s\n",
      "[CV 1/5] END C=0.00019630406500402724, max_iter=1000; accuracy: (test=0.655) f1: (test=0.202) total time=   4.4s\n",
      "[CV 2/5] END C=0.00019630406500402724, max_iter=1000; accuracy: (test=0.655) f1: (test=0.202) total time=   5.6s\n",
      "[CV 3/5] END C=0.00019630406500402724, max_iter=1000; accuracy: (test=0.652) f1: (test=0.201) total time=   4.4s\n",
      "[CV 4/5] END C=0.00019630406500402724, max_iter=1000; accuracy: (test=0.656) f1: (test=0.203) total time=   4.3s\n",
      "[CV 5/5] END C=0.00019630406500402724, max_iter=1000; accuracy: (test=0.654) f1: (test=0.200) total time=   5.4s\n"
     ]
    },
    {
     "name": "stderr",
     "output_type": "stream",
     "text": [
      "c:\\Users\\prodb\\anaconda3\\envs\\XG_ENV\\lib\\site-packages\\sklearn\\linear_model\\_logistic.py:458: ConvergenceWarning: lbfgs failed to converge (status=1):\n",
      "STOP: TOTAL NO. of ITERATIONS REACHED LIMIT.\n",
      "\n",
      "Increase the number of iterations (max_iter) or scale the data as shown in:\n",
      "    https://scikit-learn.org/stable/modules/preprocessing.html\n",
      "Please also refer to the documentation for alternative solver options:\n",
      "    https://scikit-learn.org/stable/modules/linear_model.html#logistic-regression\n",
      "  n_iter_i = _check_optimize_result(\n"
     ]
    },
    {
     "name": "stdout",
     "output_type": "stream",
     "text": [
      "[CV 1/5] END C=16.68100537200059, max_iter=500; accuracy: (test=0.655) f1: (test=0.202) total time=  19.2s\n"
     ]
    },
    {
     "name": "stderr",
     "output_type": "stream",
     "text": [
      "c:\\Users\\prodb\\anaconda3\\envs\\XG_ENV\\lib\\site-packages\\sklearn\\linear_model\\_logistic.py:458: ConvergenceWarning: lbfgs failed to converge (status=1):\n",
      "STOP: TOTAL NO. of ITERATIONS REACHED LIMIT.\n",
      "\n",
      "Increase the number of iterations (max_iter) or scale the data as shown in:\n",
      "    https://scikit-learn.org/stable/modules/preprocessing.html\n",
      "Please also refer to the documentation for alternative solver options:\n",
      "    https://scikit-learn.org/stable/modules/linear_model.html#logistic-regression\n",
      "  n_iter_i = _check_optimize_result(\n"
     ]
    },
    {
     "name": "stdout",
     "output_type": "stream",
     "text": [
      "[CV 2/5] END C=16.68100537200059, max_iter=500; accuracy: (test=0.654) f1: (test=0.202) total time=  19.0s\n",
      "[CV 3/5] END C=16.68100537200059, max_iter=500; accuracy: (test=0.653) f1: (test=0.202) total time=  18.2s\n"
     ]
    },
    {
     "name": "stderr",
     "output_type": "stream",
     "text": [
      "c:\\Users\\prodb\\anaconda3\\envs\\XG_ENV\\lib\\site-packages\\sklearn\\linear_model\\_logistic.py:458: ConvergenceWarning: lbfgs failed to converge (status=1):\n",
      "STOP: TOTAL NO. of ITERATIONS REACHED LIMIT.\n",
      "\n",
      "Increase the number of iterations (max_iter) or scale the data as shown in:\n",
      "    https://scikit-learn.org/stable/modules/preprocessing.html\n",
      "Please also refer to the documentation for alternative solver options:\n",
      "    https://scikit-learn.org/stable/modules/linear_model.html#logistic-regression\n",
      "  n_iter_i = _check_optimize_result(\n"
     ]
    },
    {
     "name": "stdout",
     "output_type": "stream",
     "text": [
      "[CV 4/5] END C=16.68100537200059, max_iter=500; accuracy: (test=0.655) f1: (test=0.204) total time=  19.5s\n",
      "[CV 5/5] END C=16.68100537200059, max_iter=500; accuracy: (test=0.655) f1: (test=0.201) total time=   7.6s\n",
      "[CV 1/5] END C=4.534878508128592, max_iter=4000; accuracy: (test=0.643) f1: (test=0.200) total time= 1.6min\n",
      "[CV 2/5] END C=4.534878508128592, max_iter=4000; accuracy: (test=0.647) f1: (test=0.201) total time= 1.4min\n",
      "[CV 3/5] END C=4.534878508128592, max_iter=4000; accuracy: (test=0.653) f1: (test=0.202) total time=   5.2s\n",
      "[CV 4/5] END C=4.534878508128592, max_iter=4000; accuracy: (test=0.653) f1: (test=0.203) total time=  34.1s\n",
      "[CV 5/5] END C=4.534878508128592, max_iter=4000; accuracy: (test=0.654) f1: (test=0.201) total time=   2.6s\n",
      "[CV 1/5] END C=0.0018307382802953698, max_iter=1000; accuracy: (test=0.655) f1: (test=0.202) total time=  11.4s\n",
      "[CV 2/5] END C=0.0018307382802953698, max_iter=1000; accuracy: (test=0.655) f1: (test=0.202) total time=   5.0s\n",
      "[CV 3/5] END C=0.0018307382802953698, max_iter=1000; accuracy: (test=0.652) f1: (test=0.202) total time=  28.5s\n",
      "[CV 4/5] END C=0.0018307382802953698, max_iter=1000; accuracy: (test=0.655) f1: (test=0.203) total time=  19.8s\n",
      "[CV 5/5] END C=0.0018307382802953698, max_iter=1000; accuracy: (test=0.655) f1: (test=0.201) total time=  20.6s\n",
      "[CV 1/5] END C=327.4549162877732, max_iter=1000; accuracy: (test=0.655) f1: (test=0.202) total time=   6.7s\n"
     ]
    },
    {
     "name": "stderr",
     "output_type": "stream",
     "text": [
      "c:\\Users\\prodb\\anaconda3\\envs\\XG_ENV\\lib\\site-packages\\sklearn\\linear_model\\_logistic.py:458: ConvergenceWarning: lbfgs failed to converge (status=1):\n",
      "STOP: TOTAL NO. of ITERATIONS REACHED LIMIT.\n",
      "\n",
      "Increase the number of iterations (max_iter) or scale the data as shown in:\n",
      "    https://scikit-learn.org/stable/modules/preprocessing.html\n",
      "Please also refer to the documentation for alternative solver options:\n",
      "    https://scikit-learn.org/stable/modules/linear_model.html#logistic-regression\n",
      "  n_iter_i = _check_optimize_result(\n"
     ]
    },
    {
     "name": "stdout",
     "output_type": "stream",
     "text": [
      "[CV 2/5] END C=327.4549162877732, max_iter=1000; accuracy: (test=0.652) f1: (test=0.202) total time=  37.8s\n"
     ]
    },
    {
     "name": "stderr",
     "output_type": "stream",
     "text": [
      "c:\\Users\\prodb\\anaconda3\\envs\\XG_ENV\\lib\\site-packages\\sklearn\\linear_model\\_logistic.py:458: ConvergenceWarning: lbfgs failed to converge (status=1):\n",
      "STOP: TOTAL NO. of ITERATIONS REACHED LIMIT.\n",
      "\n",
      "Increase the number of iterations (max_iter) or scale the data as shown in:\n",
      "    https://scikit-learn.org/stable/modules/preprocessing.html\n",
      "Please also refer to the documentation for alternative solver options:\n",
      "    https://scikit-learn.org/stable/modules/linear_model.html#logistic-regression\n",
      "  n_iter_i = _check_optimize_result(\n"
     ]
    },
    {
     "name": "stdout",
     "output_type": "stream",
     "text": [
      "[CV 3/5] END C=327.4549162877732, max_iter=1000; accuracy: (test=0.650) f1: (test=0.201) total time=  38.4s\n",
      "[CV 4/5] END C=327.4549162877732, max_iter=1000; accuracy: (test=0.656) f1: (test=0.203) total time=  17.3s\n",
      "[CV 5/5] END C=327.4549162877732, max_iter=1000; accuracy: (test=0.655) f1: (test=0.201) total time=   9.3s\n",
      "[CV 1/5] END C=2.5353644939701114e-05, max_iter=1000; accuracy: (test=0.656) f1: (test=0.202) total time=   6.6s\n",
      "[CV 2/5] END C=2.5353644939701114e-05, max_iter=1000; accuracy: (test=0.656) f1: (test=0.201) total time=   2.8s\n",
      "[CV 3/5] END C=2.5353644939701114e-05, max_iter=1000; accuracy: (test=0.654) f1: (test=0.200) total time=   2.6s\n",
      "[CV 4/5] END C=2.5353644939701114e-05, max_iter=1000; accuracy: (test=0.656) f1: (test=0.201) total time=   3.9s\n",
      "[CV 5/5] END C=2.5353644939701114e-05, max_iter=1000; accuracy: (test=0.655) f1: (test=0.199) total time=   3.3s\n"
     ]
    },
    {
     "data": {
      "text/html": [
       "<style>#sk-container-id-3 {color: black;background-color: white;}#sk-container-id-3 pre{padding: 0;}#sk-container-id-3 div.sk-toggleable {background-color: white;}#sk-container-id-3 label.sk-toggleable__label {cursor: pointer;display: block;width: 100%;margin-bottom: 0;padding: 0.3em;box-sizing: border-box;text-align: center;}#sk-container-id-3 label.sk-toggleable__label-arrow:before {content: \"▸\";float: left;margin-right: 0.25em;color: #696969;}#sk-container-id-3 label.sk-toggleable__label-arrow:hover:before {color: black;}#sk-container-id-3 div.sk-estimator:hover label.sk-toggleable__label-arrow:before {color: black;}#sk-container-id-3 div.sk-toggleable__content {max-height: 0;max-width: 0;overflow: hidden;text-align: left;background-color: #f0f8ff;}#sk-container-id-3 div.sk-toggleable__content pre {margin: 0.2em;color: black;border-radius: 0.25em;background-color: #f0f8ff;}#sk-container-id-3 input.sk-toggleable__control:checked~div.sk-toggleable__content {max-height: 200px;max-width: 100%;overflow: auto;}#sk-container-id-3 input.sk-toggleable__control:checked~label.sk-toggleable__label-arrow:before {content: \"▾\";}#sk-container-id-3 div.sk-estimator input.sk-toggleable__control:checked~label.sk-toggleable__label {background-color: #d4ebff;}#sk-container-id-3 div.sk-label input.sk-toggleable__control:checked~label.sk-toggleable__label {background-color: #d4ebff;}#sk-container-id-3 input.sk-hidden--visually {border: 0;clip: rect(1px 1px 1px 1px);clip: rect(1px, 1px, 1px, 1px);height: 1px;margin: -1px;overflow: hidden;padding: 0;position: absolute;width: 1px;}#sk-container-id-3 div.sk-estimator {font-family: monospace;background-color: #f0f8ff;border: 1px dotted black;border-radius: 0.25em;box-sizing: border-box;margin-bottom: 0.5em;}#sk-container-id-3 div.sk-estimator:hover {background-color: #d4ebff;}#sk-container-id-3 div.sk-parallel-item::after {content: \"\";width: 100%;border-bottom: 1px solid gray;flex-grow: 1;}#sk-container-id-3 div.sk-label:hover label.sk-toggleable__label {background-color: #d4ebff;}#sk-container-id-3 div.sk-serial::before {content: \"\";position: absolute;border-left: 1px solid gray;box-sizing: border-box;top: 0;bottom: 0;left: 50%;z-index: 0;}#sk-container-id-3 div.sk-serial {display: flex;flex-direction: column;align-items: center;background-color: white;padding-right: 0.2em;padding-left: 0.2em;position: relative;}#sk-container-id-3 div.sk-item {position: relative;z-index: 1;}#sk-container-id-3 div.sk-parallel {display: flex;align-items: stretch;justify-content: center;background-color: white;position: relative;}#sk-container-id-3 div.sk-item::before, #sk-container-id-3 div.sk-parallel-item::before {content: \"\";position: absolute;border-left: 1px solid gray;box-sizing: border-box;top: 0;bottom: 0;left: 50%;z-index: -1;}#sk-container-id-3 div.sk-parallel-item {display: flex;flex-direction: column;z-index: 1;position: relative;background-color: white;}#sk-container-id-3 div.sk-parallel-item:first-child::after {align-self: flex-end;width: 50%;}#sk-container-id-3 div.sk-parallel-item:last-child::after {align-self: flex-start;width: 50%;}#sk-container-id-3 div.sk-parallel-item:only-child::after {width: 0;}#sk-container-id-3 div.sk-dashed-wrapped {border: 1px dashed gray;margin: 0 0.4em 0.5em 0.4em;box-sizing: border-box;padding-bottom: 0.4em;background-color: white;}#sk-container-id-3 div.sk-label label {font-family: monospace;font-weight: bold;display: inline-block;line-height: 1.2em;}#sk-container-id-3 div.sk-label-container {text-align: center;}#sk-container-id-3 div.sk-container {/* jupyter's `normalize.less` sets `[hidden] { display: none; }` but bootstrap.min.css set `[hidden] { display: none !important; }` so we also need the `!important` here to be able to override the default hidden behavior on the sphinx rendered scikit-learn.org. See: https://github.com/scikit-learn/scikit-learn/issues/21755 */display: inline-block !important;position: relative;}#sk-container-id-3 div.sk-text-repr-fallback {display: none;}</style><div id=\"sk-container-id-3\" class=\"sk-top-container\"><div class=\"sk-text-repr-fallback\"><pre>RandomizedSearchCV(cv=5, error_score=&#x27;raise&#x27;,\n",
       "                   estimator=LogisticRegression(class_weight=&#x27;balanced&#x27;),\n",
       "                   n_iter=50,\n",
       "                   param_distributions=[{&#x27;C&#x27;: [1e-05, 1.2045035402587812e-05,\n",
       "                                               1.4508287784959402e-05,\n",
       "                                               1.747528400007683e-05,\n",
       "                                               2.104904144512022e-05,\n",
       "                                               2.5353644939701114e-05,\n",
       "                                               3.053855508833412e-05,\n",
       "                                               3.678379771828634e-05,\n",
       "                                               4.430621457583878e-05,\n",
       "                                               5.3366992312063123e-05,\n",
       "                                               6.42807...\n",
       "                                               0.0002848035868435802,\n",
       "                                               0.0003430469286314919,\n",
       "                                               0.00041320124001153384,\n",
       "                                               0.0004977023564332114,\n",
       "                                               0.0005994842503189409,\n",
       "                                               0.0007220809018385471,\n",
       "                                               0.0008697490026177834,\n",
       "                                               0.001047615752789665,\n",
       "                                               0.0012618568830660211,\n",
       "                                               0.0015199110829529348,\n",
       "                                               0.0018307382802953698,\n",
       "                                               0.0022051307399030455, ...],\n",
       "                                         &#x27;max_iter&#x27;: [500, 1000, 2000, 4000]}],\n",
       "                   refit=&#x27;f1&#x27;, scoring=[&#x27;f1&#x27;, &#x27;accuracy&#x27;], verbose=3)</pre><b>In a Jupyter environment, please rerun this cell to show the HTML representation or trust the notebook. <br />On GitHub, the HTML representation is unable to render, please try loading this page with nbviewer.org.</b></div><div class=\"sk-container\" hidden><div class=\"sk-item sk-dashed-wrapped\"><div class=\"sk-label-container\"><div class=\"sk-label sk-toggleable\"><input class=\"sk-toggleable__control sk-hidden--visually\" id=\"sk-estimator-id-5\" type=\"checkbox\" ><label for=\"sk-estimator-id-5\" class=\"sk-toggleable__label sk-toggleable__label-arrow\">RandomizedSearchCV</label><div class=\"sk-toggleable__content\"><pre>RandomizedSearchCV(cv=5, error_score=&#x27;raise&#x27;,\n",
       "                   estimator=LogisticRegression(class_weight=&#x27;balanced&#x27;),\n",
       "                   n_iter=50,\n",
       "                   param_distributions=[{&#x27;C&#x27;: [1e-05, 1.2045035402587812e-05,\n",
       "                                               1.4508287784959402e-05,\n",
       "                                               1.747528400007683e-05,\n",
       "                                               2.104904144512022e-05,\n",
       "                                               2.5353644939701114e-05,\n",
       "                                               3.053855508833412e-05,\n",
       "                                               3.678379771828634e-05,\n",
       "                                               4.430621457583878e-05,\n",
       "                                               5.3366992312063123e-05,\n",
       "                                               6.42807...\n",
       "                                               0.0002848035868435802,\n",
       "                                               0.0003430469286314919,\n",
       "                                               0.00041320124001153384,\n",
       "                                               0.0004977023564332114,\n",
       "                                               0.0005994842503189409,\n",
       "                                               0.0007220809018385471,\n",
       "                                               0.0008697490026177834,\n",
       "                                               0.001047615752789665,\n",
       "                                               0.0012618568830660211,\n",
       "                                               0.0015199110829529348,\n",
       "                                               0.0018307382802953698,\n",
       "                                               0.0022051307399030455, ...],\n",
       "                                         &#x27;max_iter&#x27;: [500, 1000, 2000, 4000]}],\n",
       "                   refit=&#x27;f1&#x27;, scoring=[&#x27;f1&#x27;, &#x27;accuracy&#x27;], verbose=3)</pre></div></div></div><div class=\"sk-parallel\"><div class=\"sk-parallel-item\"><div class=\"sk-item\"><div class=\"sk-label-container\"><div class=\"sk-label sk-toggleable\"><input class=\"sk-toggleable__control sk-hidden--visually\" id=\"sk-estimator-id-6\" type=\"checkbox\" ><label for=\"sk-estimator-id-6\" class=\"sk-toggleable__label sk-toggleable__label-arrow\">estimator: LogisticRegression</label><div class=\"sk-toggleable__content\"><pre>LogisticRegression(class_weight=&#x27;balanced&#x27;)</pre></div></div></div><div class=\"sk-serial\"><div class=\"sk-item\"><div class=\"sk-estimator sk-toggleable\"><input class=\"sk-toggleable__control sk-hidden--visually\" id=\"sk-estimator-id-7\" type=\"checkbox\" ><label for=\"sk-estimator-id-7\" class=\"sk-toggleable__label sk-toggleable__label-arrow\">LogisticRegression</label><div class=\"sk-toggleable__content\"><pre>LogisticRegression(class_weight=&#x27;balanced&#x27;)</pre></div></div></div></div></div></div></div></div></div></div>"
      ],
      "text/plain": [
       "RandomizedSearchCV(cv=5, error_score='raise',\n",
       "                   estimator=LogisticRegression(class_weight='balanced'),\n",
       "                   n_iter=50,\n",
       "                   param_distributions=[{'C': [1e-05, 1.2045035402587812e-05,\n",
       "                                               1.4508287784959402e-05,\n",
       "                                               1.747528400007683e-05,\n",
       "                                               2.104904144512022e-05,\n",
       "                                               2.5353644939701114e-05,\n",
       "                                               3.053855508833412e-05,\n",
       "                                               3.678379771828634e-05,\n",
       "                                               4.430621457583878e-05,\n",
       "                                               5.3366992312063123e-05,\n",
       "                                               6.42807...\n",
       "                                               0.0002848035868435802,\n",
       "                                               0.0003430469286314919,\n",
       "                                               0.00041320124001153384,\n",
       "                                               0.0004977023564332114,\n",
       "                                               0.0005994842503189409,\n",
       "                                               0.0007220809018385471,\n",
       "                                               0.0008697490026177834,\n",
       "                                               0.001047615752789665,\n",
       "                                               0.0012618568830660211,\n",
       "                                               0.0015199110829529348,\n",
       "                                               0.0018307382802953698,\n",
       "                                               0.0022051307399030455, ...],\n",
       "                                         'max_iter': [500, 1000, 2000, 4000]}],\n",
       "                   refit='f1', scoring=['f1', 'accuracy'], verbose=3)"
      ]
     },
     "execution_count": 76,
     "metadata": {},
     "output_type": "execute_result"
    }
   ],
   "source": [
    "lg = LogisticRegression(class_weight = 'balanced') \n",
    "lg_search = RandomizedSearchCV(estimator = lg, param_distributions = lg_param_grid, scoring = ['f1', 'accuracy'], refit = 'f1', verbose = 3, n_iter = 50, cv = 5, error_score = 'raise')\n",
    "lg_search.fit(x_train, y_train)"
   ]
  },
  {
   "cell_type": "code",
   "execution_count": 80,
   "metadata": {},
   "outputs": [
    {
     "data": {
      "text/plain": [
       "{'max_iter': 1000, 'C': 0.0038535285937105314}"
      ]
     },
     "execution_count": 80,
     "metadata": {},
     "output_type": "execute_result"
    }
   ],
   "source": [
    "# best parameters\n",
    "lg_search.best_params_"
   ]
  },
  {
   "cell_type": "code",
   "execution_count": 78,
   "metadata": {},
   "outputs": [],
   "source": [
    "# save the best model \n",
    "lg_model = lg_search.best_estimator_"
   ]
  },
  {
   "cell_type": "code",
   "execution_count": 81,
   "metadata": {},
   "outputs": [
    {
     "data": {
      "text/html": [
       "<style>#sk-container-id-5 {color: black;background-color: white;}#sk-container-id-5 pre{padding: 0;}#sk-container-id-5 div.sk-toggleable {background-color: white;}#sk-container-id-5 label.sk-toggleable__label {cursor: pointer;display: block;width: 100%;margin-bottom: 0;padding: 0.3em;box-sizing: border-box;text-align: center;}#sk-container-id-5 label.sk-toggleable__label-arrow:before {content: \"▸\";float: left;margin-right: 0.25em;color: #696969;}#sk-container-id-5 label.sk-toggleable__label-arrow:hover:before {color: black;}#sk-container-id-5 div.sk-estimator:hover label.sk-toggleable__label-arrow:before {color: black;}#sk-container-id-5 div.sk-toggleable__content {max-height: 0;max-width: 0;overflow: hidden;text-align: left;background-color: #f0f8ff;}#sk-container-id-5 div.sk-toggleable__content pre {margin: 0.2em;color: black;border-radius: 0.25em;background-color: #f0f8ff;}#sk-container-id-5 input.sk-toggleable__control:checked~div.sk-toggleable__content {max-height: 200px;max-width: 100%;overflow: auto;}#sk-container-id-5 input.sk-toggleable__control:checked~label.sk-toggleable__label-arrow:before {content: \"▾\";}#sk-container-id-5 div.sk-estimator input.sk-toggleable__control:checked~label.sk-toggleable__label {background-color: #d4ebff;}#sk-container-id-5 div.sk-label input.sk-toggleable__control:checked~label.sk-toggleable__label {background-color: #d4ebff;}#sk-container-id-5 input.sk-hidden--visually {border: 0;clip: rect(1px 1px 1px 1px);clip: rect(1px, 1px, 1px, 1px);height: 1px;margin: -1px;overflow: hidden;padding: 0;position: absolute;width: 1px;}#sk-container-id-5 div.sk-estimator {font-family: monospace;background-color: #f0f8ff;border: 1px dotted black;border-radius: 0.25em;box-sizing: border-box;margin-bottom: 0.5em;}#sk-container-id-5 div.sk-estimator:hover {background-color: #d4ebff;}#sk-container-id-5 div.sk-parallel-item::after {content: \"\";width: 100%;border-bottom: 1px solid gray;flex-grow: 1;}#sk-container-id-5 div.sk-label:hover label.sk-toggleable__label {background-color: #d4ebff;}#sk-container-id-5 div.sk-serial::before {content: \"\";position: absolute;border-left: 1px solid gray;box-sizing: border-box;top: 0;bottom: 0;left: 50%;z-index: 0;}#sk-container-id-5 div.sk-serial {display: flex;flex-direction: column;align-items: center;background-color: white;padding-right: 0.2em;padding-left: 0.2em;position: relative;}#sk-container-id-5 div.sk-item {position: relative;z-index: 1;}#sk-container-id-5 div.sk-parallel {display: flex;align-items: stretch;justify-content: center;background-color: white;position: relative;}#sk-container-id-5 div.sk-item::before, #sk-container-id-5 div.sk-parallel-item::before {content: \"\";position: absolute;border-left: 1px solid gray;box-sizing: border-box;top: 0;bottom: 0;left: 50%;z-index: -1;}#sk-container-id-5 div.sk-parallel-item {display: flex;flex-direction: column;z-index: 1;position: relative;background-color: white;}#sk-container-id-5 div.sk-parallel-item:first-child::after {align-self: flex-end;width: 50%;}#sk-container-id-5 div.sk-parallel-item:last-child::after {align-self: flex-start;width: 50%;}#sk-container-id-5 div.sk-parallel-item:only-child::after {width: 0;}#sk-container-id-5 div.sk-dashed-wrapped {border: 1px dashed gray;margin: 0 0.4em 0.5em 0.4em;box-sizing: border-box;padding-bottom: 0.4em;background-color: white;}#sk-container-id-5 div.sk-label label {font-family: monospace;font-weight: bold;display: inline-block;line-height: 1.2em;}#sk-container-id-5 div.sk-label-container {text-align: center;}#sk-container-id-5 div.sk-container {/* jupyter's `normalize.less` sets `[hidden] { display: none; }` but bootstrap.min.css set `[hidden] { display: none !important; }` so we also need the `!important` here to be able to override the default hidden behavior on the sphinx rendered scikit-learn.org. See: https://github.com/scikit-learn/scikit-learn/issues/21755 */display: inline-block !important;position: relative;}#sk-container-id-5 div.sk-text-repr-fallback {display: none;}</style><div id=\"sk-container-id-5\" class=\"sk-top-container\"><div class=\"sk-text-repr-fallback\"><pre>LogisticRegression(C=0.0038535285937105314, class_weight=&#x27;balanced&#x27;,\n",
       "                   max_iter=1000)</pre><b>In a Jupyter environment, please rerun this cell to show the HTML representation or trust the notebook. <br />On GitHub, the HTML representation is unable to render, please try loading this page with nbviewer.org.</b></div><div class=\"sk-container\" hidden><div class=\"sk-item\"><div class=\"sk-estimator sk-toggleable\"><input class=\"sk-toggleable__control sk-hidden--visually\" id=\"sk-estimator-id-9\" type=\"checkbox\" checked><label for=\"sk-estimator-id-9\" class=\"sk-toggleable__label sk-toggleable__label-arrow\">LogisticRegression</label><div class=\"sk-toggleable__content\"><pre>LogisticRegression(C=0.0038535285937105314, class_weight=&#x27;balanced&#x27;,\n",
       "                   max_iter=1000)</pre></div></div></div></div></div>"
      ],
      "text/plain": [
       "LogisticRegression(C=0.0038535285937105314, class_weight='balanced',\n",
       "                   max_iter=1000)"
      ]
     },
     "execution_count": 81,
     "metadata": {},
     "output_type": "execute_result"
    }
   ],
   "source": [
    "lg_model"
   ]
  },
  {
   "attachments": {},
   "cell_type": "markdown",
   "metadata": {},
   "source": [
    "# Random Forest Classifier"
   ]
  },
  {
   "cell_type": "code",
   "execution_count": null,
   "metadata": {},
   "outputs": [],
   "source": []
  }
 ],
 "metadata": {
  "kernelspec": {
   "display_name": "XG_ENV",
   "language": "python",
   "name": "python3"
  },
  "language_info": {
   "codemirror_mode": {
    "name": "ipython",
    "version": 3
   },
   "file_extension": ".py",
   "mimetype": "text/x-python",
   "name": "python",
   "nbconvert_exporter": "python",
   "pygments_lexer": "ipython3",
   "version": "3.10.11"
  },
  "orig_nbformat": 4
 },
 "nbformat": 4,
 "nbformat_minor": 2
}
